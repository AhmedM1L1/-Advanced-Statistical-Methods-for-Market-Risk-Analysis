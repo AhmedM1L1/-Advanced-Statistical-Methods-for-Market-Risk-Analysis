{
 "cells": [
  {
   "cell_type": "markdown",
   "id": "1b1b39d1-e4ce-4fc3-a4fb-2326b02a0bac",
   "metadata": {},
   "source": [
    "# Advanced Statistical Methods for Market Risk Analysis"
   ]
  },
  {
   "cell_type": "markdown",
   "id": "edf92c83-2b4a-42b8-94c7-65fddc470ff4",
   "metadata": {},
   "source": [
    "## Value At Risk And Expected Shortfalls on Natixis Stock"
   ]
  },
  {
   "cell_type": "code",
   "execution_count": 3,
   "id": "a7774229-06b9-4f8e-95cd-29cf528094fc",
   "metadata": {},
   "outputs": [],
   "source": [
    "import warnings\n",
    "\n",
    "# To ignore warnings\n",
    "warnings.filterwarnings(\"ignore\")\n"
   ]
  },
  {
   "cell_type": "code",
   "execution_count": 4,
   "id": "026d5da0-82e5-4579-9c77-6fc557a66a59",
   "metadata": {},
   "outputs": [],
   "source": [
    "import pandas as pd\n",
    "import numpy as np\n",
    "import matplotlib.pyplot as plt\n",
    "from scipy.stats import norm"
   ]
  },
  {
   "cell_type": "code",
   "execution_count": 5,
   "id": "8b6e0a2f-449f-49b7-802a-d3eac709ca39",
   "metadata": {},
   "outputs": [
    {
     "data": {
      "text/html": [
       "<div>\n",
       "<style scoped>\n",
       "    .dataframe tbody tr th:only-of-type {\n",
       "        vertical-align: middle;\n",
       "    }\n",
       "\n",
       "    .dataframe tbody tr th {\n",
       "        vertical-align: top;\n",
       "    }\n",
       "\n",
       "    .dataframe thead th {\n",
       "        text-align: right;\n",
       "    }\n",
       "</style>\n",
       "<table border=\"1\" class=\"dataframe\">\n",
       "  <thead>\n",
       "    <tr style=\"text-align: right;\">\n",
       "      <th></th>\n",
       "      <th>Date</th>\n",
       "      <th>Price</th>\n",
       "    </tr>\n",
       "  </thead>\n",
       "  <tbody>\n",
       "    <tr>\n",
       "      <th>0</th>\n",
       "      <td>2015-01-02</td>\n",
       "      <td>5.621</td>\n",
       "    </tr>\n",
       "    <tr>\n",
       "      <th>1</th>\n",
       "      <td>2015-01-05</td>\n",
       "      <td>5.424</td>\n",
       "    </tr>\n",
       "    <tr>\n",
       "      <th>2</th>\n",
       "      <td>2015-01-06</td>\n",
       "      <td>5.329</td>\n",
       "    </tr>\n",
       "    <tr>\n",
       "      <th>3</th>\n",
       "      <td>2015-01-07</td>\n",
       "      <td>5.224</td>\n",
       "    </tr>\n",
       "    <tr>\n",
       "      <th>4</th>\n",
       "      <td>2015-01-08</td>\n",
       "      <td>5.453</td>\n",
       "    </tr>\n",
       "    <tr>\n",
       "      <th>...</th>\n",
       "      <td>...</td>\n",
       "      <td>...</td>\n",
       "    </tr>\n",
       "    <tr>\n",
       "      <th>1018</th>\n",
       "      <td>2018-12-21</td>\n",
       "      <td>4.045</td>\n",
       "    </tr>\n",
       "    <tr>\n",
       "      <th>1019</th>\n",
       "      <td>2018-12-24</td>\n",
       "      <td>4.010</td>\n",
       "    </tr>\n",
       "    <tr>\n",
       "      <th>1020</th>\n",
       "      <td>2018-12-27</td>\n",
       "      <td>3.938</td>\n",
       "    </tr>\n",
       "    <tr>\n",
       "      <th>1021</th>\n",
       "      <td>2018-12-28</td>\n",
       "      <td>4.088</td>\n",
       "    </tr>\n",
       "    <tr>\n",
       "      <th>1022</th>\n",
       "      <td>2018-12-31</td>\n",
       "      <td>4.119</td>\n",
       "    </tr>\n",
       "  </tbody>\n",
       "</table>\n",
       "<p>1023 rows × 2 columns</p>\n",
       "</div>"
      ],
      "text/plain": [
       "           Date  Price\n",
       "0    2015-01-02  5.621\n",
       "1    2015-01-05  5.424\n",
       "2    2015-01-06  5.329\n",
       "3    2015-01-07  5.224\n",
       "4    2015-01-08  5.453\n",
       "...         ...    ...\n",
       "1018 2018-12-21  4.045\n",
       "1019 2018-12-24  4.010\n",
       "1020 2018-12-27  3.938\n",
       "1021 2018-12-28  4.088\n",
       "1022 2018-12-31  4.119\n",
       "\n",
       "[1023 rows x 2 columns]"
      ]
     },
     "execution_count": 5,
     "metadata": {},
     "output_type": "execute_result"
    }
   ],
   "source": [
    "# Load the data \n",
    "file_path = 'Natixis_Stock.xlsx'\n",
    "xls = pd.ExcelFile(file_path)\n",
    "\n",
    "# Load the content of the first sheet\n",
    "data = pd.read_excel(xls)\n",
    "data"
   ]
  },
  {
   "cell_type": "code",
   "execution_count": 6,
   "id": "b23ff8ea-45c4-4007-b97c-0c73b212fa76",
   "metadata": {},
   "outputs": [
    {
     "data": {
      "text/html": [
       "<div>\n",
       "<style scoped>\n",
       "    .dataframe tbody tr th:only-of-type {\n",
       "        vertical-align: middle;\n",
       "    }\n",
       "\n",
       "    .dataframe tbody tr th {\n",
       "        vertical-align: top;\n",
       "    }\n",
       "\n",
       "    .dataframe thead th {\n",
       "        text-align: right;\n",
       "    }\n",
       "</style>\n",
       "<table border=\"1\" class=\"dataframe\">\n",
       "  <thead>\n",
       "    <tr style=\"text-align: right;\">\n",
       "      <th></th>\n",
       "      <th>Date</th>\n",
       "      <th>Price</th>\n",
       "    </tr>\n",
       "  </thead>\n",
       "  <tbody>\n",
       "    <tr>\n",
       "      <th>0</th>\n",
       "      <td>2015-01-02</td>\n",
       "      <td>5.621</td>\n",
       "    </tr>\n",
       "    <tr>\n",
       "      <th>1</th>\n",
       "      <td>2015-01-05</td>\n",
       "      <td>5.424</td>\n",
       "    </tr>\n",
       "    <tr>\n",
       "      <th>2</th>\n",
       "      <td>2015-01-06</td>\n",
       "      <td>5.329</td>\n",
       "    </tr>\n",
       "    <tr>\n",
       "      <th>3</th>\n",
       "      <td>2015-01-07</td>\n",
       "      <td>5.224</td>\n",
       "    </tr>\n",
       "    <tr>\n",
       "      <th>4</th>\n",
       "      <td>2015-01-08</td>\n",
       "      <td>5.453</td>\n",
       "    </tr>\n",
       "    <tr>\n",
       "      <th>...</th>\n",
       "      <td>...</td>\n",
       "      <td>...</td>\n",
       "    </tr>\n",
       "    <tr>\n",
       "      <th>508</th>\n",
       "      <td>2016-12-23</td>\n",
       "      <td>5.376</td>\n",
       "    </tr>\n",
       "    <tr>\n",
       "      <th>509</th>\n",
       "      <td>2016-12-27</td>\n",
       "      <td>5.380</td>\n",
       "    </tr>\n",
       "    <tr>\n",
       "      <th>510</th>\n",
       "      <td>2016-12-28</td>\n",
       "      <td>5.379</td>\n",
       "    </tr>\n",
       "    <tr>\n",
       "      <th>511</th>\n",
       "      <td>2016-12-29</td>\n",
       "      <td>5.328</td>\n",
       "    </tr>\n",
       "    <tr>\n",
       "      <th>512</th>\n",
       "      <td>2016-12-30</td>\n",
       "      <td>5.360</td>\n",
       "    </tr>\n",
       "  </tbody>\n",
       "</table>\n",
       "<p>513 rows × 2 columns</p>\n",
       "</div>"
      ],
      "text/plain": [
       "          Date  Price\n",
       "0   2015-01-02  5.621\n",
       "1   2015-01-05  5.424\n",
       "2   2015-01-06  5.329\n",
       "3   2015-01-07  5.224\n",
       "4   2015-01-08  5.453\n",
       "..         ...    ...\n",
       "508 2016-12-23  5.376\n",
       "509 2016-12-27  5.380\n",
       "510 2016-12-28  5.379\n",
       "511 2016-12-29  5.328\n",
       "512 2016-12-30  5.360\n",
       "\n",
       "[513 rows x 2 columns]"
      ]
     },
     "execution_count": 6,
     "metadata": {},
     "output_type": "execute_result"
    }
   ],
   "source": [
    "# Convert the Date column to datetime format\n",
    "data['Date'] = pd.to_datetime(data['Date'])\n",
    "\n",
    "# Filter the data between January 2015 and December 2016\n",
    "data_filtered = data[(data['Date'] >= '2015-01-01') & (data['Date'] <= '2016-12-31')]\n",
    "data_filtered"
   ]
  },
  {
   "cell_type": "code",
   "execution_count": 7,
   "id": "ec6020e6-b719-49c9-a726-dec6216097fe",
   "metadata": {},
   "outputs": [
    {
     "name": "stdout",
     "output_type": "stream",
     "text": [
      "Filtered Data with Returns:\n"
     ]
    },
    {
     "data": {
      "text/html": [
       "<div>\n",
       "<style scoped>\n",
       "    .dataframe tbody tr th:only-of-type {\n",
       "        vertical-align: middle;\n",
       "    }\n",
       "\n",
       "    .dataframe tbody tr th {\n",
       "        vertical-align: top;\n",
       "    }\n",
       "\n",
       "    .dataframe thead th {\n",
       "        text-align: right;\n",
       "    }\n",
       "</style>\n",
       "<table border=\"1\" class=\"dataframe\">\n",
       "  <thead>\n",
       "    <tr style=\"text-align: right;\">\n",
       "      <th></th>\n",
       "      <th>Date</th>\n",
       "      <th>Price</th>\n",
       "      <th>Return</th>\n",
       "    </tr>\n",
       "  </thead>\n",
       "  <tbody>\n",
       "    <tr>\n",
       "      <th>1</th>\n",
       "      <td>2015-01-05</td>\n",
       "      <td>5.424</td>\n",
       "      <td>-0.035047</td>\n",
       "    </tr>\n",
       "    <tr>\n",
       "      <th>2</th>\n",
       "      <td>2015-01-06</td>\n",
       "      <td>5.329</td>\n",
       "      <td>-0.017515</td>\n",
       "    </tr>\n",
       "    <tr>\n",
       "      <th>3</th>\n",
       "      <td>2015-01-07</td>\n",
       "      <td>5.224</td>\n",
       "      <td>-0.019704</td>\n",
       "    </tr>\n",
       "    <tr>\n",
       "      <th>4</th>\n",
       "      <td>2015-01-08</td>\n",
       "      <td>5.453</td>\n",
       "      <td>0.043836</td>\n",
       "    </tr>\n",
       "    <tr>\n",
       "      <th>5</th>\n",
       "      <td>2015-01-09</td>\n",
       "      <td>5.340</td>\n",
       "      <td>-0.020723</td>\n",
       "    </tr>\n",
       "    <tr>\n",
       "      <th>...</th>\n",
       "      <td>...</td>\n",
       "      <td>...</td>\n",
       "      <td>...</td>\n",
       "    </tr>\n",
       "    <tr>\n",
       "      <th>508</th>\n",
       "      <td>2016-12-23</td>\n",
       "      <td>5.376</td>\n",
       "      <td>-0.008118</td>\n",
       "    </tr>\n",
       "    <tr>\n",
       "      <th>509</th>\n",
       "      <td>2016-12-27</td>\n",
       "      <td>5.380</td>\n",
       "      <td>0.000744</td>\n",
       "    </tr>\n",
       "    <tr>\n",
       "      <th>510</th>\n",
       "      <td>2016-12-28</td>\n",
       "      <td>5.379</td>\n",
       "      <td>-0.000186</td>\n",
       "    </tr>\n",
       "    <tr>\n",
       "      <th>511</th>\n",
       "      <td>2016-12-29</td>\n",
       "      <td>5.328</td>\n",
       "      <td>-0.009481</td>\n",
       "    </tr>\n",
       "    <tr>\n",
       "      <th>512</th>\n",
       "      <td>2016-12-30</td>\n",
       "      <td>5.360</td>\n",
       "      <td>0.006006</td>\n",
       "    </tr>\n",
       "  </tbody>\n",
       "</table>\n",
       "<p>512 rows × 3 columns</p>\n",
       "</div>"
      ],
      "text/plain": [
       "          Date  Price    Return\n",
       "1   2015-01-05  5.424 -0.035047\n",
       "2   2015-01-06  5.329 -0.017515\n",
       "3   2015-01-07  5.224 -0.019704\n",
       "4   2015-01-08  5.453  0.043836\n",
       "5   2015-01-09  5.340 -0.020723\n",
       "..         ...    ...       ...\n",
       "508 2016-12-23  5.376 -0.008118\n",
       "509 2016-12-27  5.380  0.000744\n",
       "510 2016-12-28  5.379 -0.000186\n",
       "511 2016-12-29  5.328 -0.009481\n",
       "512 2016-12-30  5.360  0.006006\n",
       "\n",
       "[512 rows x 3 columns]"
      ]
     },
     "execution_count": 7,
     "metadata": {},
     "output_type": "execute_result"
    }
   ],
   "source": [
    "# Calculate daily returns: (P_t - P_{t-1}) / P_{t-1}\n",
    "data_filtered['Return'] = data_filtered['Price'].pct_change()\n",
    "\n",
    "# Remove the first row since it contains NaN for the return\n",
    "data_filtered.dropna(inplace=True)\n",
    "\n",
    "# Display the results: Price, Return, and VaR\n",
    "print(\"Filtered Data with Returns:\")\n",
    "data_filtered"
   ]
  },
  {
   "cell_type": "markdown",
   "id": "8451eccd-49d5-4b6b-be71-5684976171a7",
   "metadata": {
    "jp-MarkdownHeadingCollapsed": true
   },
   "source": [
    "### Historical VaR : Empirical VaR"
   ]
  },
  {
   "cell_type": "code",
   "execution_count": 9,
   "id": "b9f85ff5-bad3-44a6-84d1-37ed2f9b81c5",
   "metadata": {},
   "outputs": [
    {
     "name": "stdout",
     "output_type": "stream",
     "text": [
      "\n",
      "Historical VaR at 95.0% confidence level: -0.03777913198405711\n"
     ]
    }
   ],
   "source": [
    "# Set a confidence level for VaR (e.g., 95% for 1-day horizon)\n",
    "confidence_level = 0.95\n",
    "\n",
    "# Calculate the VaR using the percentile of the returns distribution\n",
    "VaR = np.percentile(data_filtered['Return'], (1 - confidence_level) * 100)\n",
    "print(f\"\\nHistorical VaR at {confidence_level * 100}% confidence level: {VaR}\")"
   ]
  },
  {
   "cell_type": "code",
   "execution_count": 10,
   "id": "88649f53-8ceb-4ab7-9933-8f4b8761bebd",
   "metadata": {},
   "outputs": [
    {
     "data": {
      "image/png": "[encoded data removed]",
      "text/plain": [
       "<Figure size 1000x600 with 2 Axes>"
      ]
     },
     "metadata": {},
     "output_type": "display_data"
    }
   ],
   "source": [
    "# Plot the price and returns over time\n",
    "fig, ax1 = plt.subplots(figsize=(10, 6))\n",
    "\n",
    "# Plot the Price\n",
    "ax1.set_xlabel('Date')\n",
    "ax1.set_ylabel('Price', color='tab:blue')\n",
    "ax1.plot(data_filtered['Date'], data_filtered['Price'], color='tab:blue', label='Price')\n",
    "ax1.tick_params(axis='y', labelcolor='tab:blue')\n",
    "\n",
    "# Create a secondary axis to plot Returns\n",
    "ax2 = ax1.twinx()\n",
    "ax2.set_ylabel('Return', color='tab:green')\n",
    "ax2.plot(data_filtered['Date'], data_filtered['Return'], color='tab:green', label='Return')\n",
    "# Add VaR line\n",
    "ax2.axhline(y=VaR, color='red', linestyle='--', label=f'VaR ({confidence_level*100:.0f}%)')  \n",
    "ax2.tick_params(axis='y', labelcolor='tab:green')\n",
    "\n",
    "# Add a legend for VaR\n",
    "ax2.legend(loc='upper left')\n",
    "\n",
    "# Title and plot\n",
    "plt.title('Price, Returns, and VaR Over Time (Jan 2015 - Dec 2016)')\n",
    "fig.tight_layout()\n",
    "plt.show()"
   ]
  },
  {
   "cell_type": "code",
   "execution_count": 11,
   "id": "aa1c00bd-aeb0-4d78-afa6-f1c914e40a2a",
   "metadata": {},
   "outputs": [
    {
     "data": {
      "image/png": "[encoded data removed]",
      "text/plain": [
       "<Figure size 1000x600 with 1 Axes>"
      ]
     },
     "metadata": {},
     "output_type": "display_data"
    }
   ],
   "source": [
    "plt.figure(figsize=(10, 6))\n",
    "plt.hist(data_filtered['Return'], bins=50, alpha=0.75, color='blue', edgecolor='black')\n",
    "plt.axvline(x=VaR, color=\"red\", linestyle=\"--\", label=f\"VaR Historical ({VaR:.4f})\")\n",
    "plt.title('Historical Returns of Natixis between january 2015 and december 2016 ')\n",
    "plt.xlabel('Returns')\n",
    "plt.ylabel('Frequency')\n",
    "plt.legend()\n",
    "plt.show()"
   ]
  },
  {
   "cell_type": "markdown",
   "id": "96ea0fb4-ac68-4071-add1-cb1e8d516818",
   "metadata": {
    "jp-MarkdownHeadingCollapsed": true
   },
   "source": [
    "### Historical VaR : Non Parametric VaR "
   ]
  },
  {
   "cell_type": "code",
   "execution_count": 13,
   "id": "c21896ae-c4cc-4223-856d-12577b65ca57",
   "metadata": {},
   "outputs": [],
   "source": [
    "# Logistic kernel function\n",
    "def logistic_kernel(u):\n",
    "    return np.exp(-u) / (1 + np.exp(-u))**2\n",
    "\n",
    "# Kernel density estimation using the logistic kernel\n",
    "def kernel_density_estimate_logistic(x, data, h):\n",
    "    n = len(data)\n",
    "    u = (x - data) / h\n",
    "    kde = np.sum(logistic_kernel(u)) / (n * h)\n",
    "    return kde\n",
    "\n",
    "# Function to calculate the empirical CDF\n",
    "def integrate_cdf(kde_values, x_range):\n",
    "    dx = x_range[1] - x_range[0]  \n",
    "    cdf = np.cumsum(kde_values) * dx\n",
    "    return cdf"
   ]
  },
  {
   "cell_type": "code",
   "execution_count": 14,
   "id": "e7b1f509-230d-4c92-8880-6df57bd12fae",
   "metadata": {},
   "outputs": [
    {
     "name": "stdout",
     "output_type": "stream",
     "text": [
      "Non-Parametric VaR (Logistic Kernel) at 95.0% confidence level: -0.0431\n"
     ]
    }
   ],
   "source": [
    "# Bandwidth (Silverman's Rule of Thumb)\n",
    "n = len(data_filtered['Return'])\n",
    "# Silverman's rule of thumb\n",
    "h = 1.06 * np.std(data_filtered['Return']) * (n ** (-1/5))\n",
    "\n",
    "# Arbitrary bandwidth for comparison\n",
    "h_small = 0.001\n",
    "\n",
    "# Density estimation over a range of values\n",
    "x_range = np.linspace(min(data_filtered['Return']), max(data_filtered['Return']), num=1000)\n",
    "kde_values_logistic = [kernel_density_estimate_logistic(x, data_filtered['Return'], h) for x in x_range]\n",
    "\n",
    "# Empirical CDF calculation\n",
    "cdf_values = integrate_cdf(kde_values_logistic, x_range)\n",
    "\n",
    "# VaR calculation\n",
    "probability_level = 0.95\n",
    "non_parametric_var_logistic = None\n",
    "\n",
    "for i, cdf in enumerate(cdf_values):\n",
    "    if cdf >= (1 - probability_level):\n",
    "        non_parametric_var_logistic = x_range[i]\n",
    "        break\n",
    "\n",
    "# Find the value of VaR corresponding to the desired confidence level\n",
    "non_parametric_var_logistic_message = (\n",
    "    f\"Non-Parametric VaR (Logistic Kernel) at {probability_level * 100}% confidence level: {non_parametric_var_logistic:.4f}\"\n",
    ")\n",
    "print(non_parametric_var_logistic_message)"
   ]
  },
  {
   "cell_type": "code",
   "execution_count": 15,
   "id": "245b085e-eab9-4731-bebc-2f2770a9b7cd",
   "metadata": {},
   "outputs": [
    {
     "data": {
      "image/png": "[encoded data removed]",
      "text/plain": [
       "<Figure size 640x480 with 1 Axes>"
      ]
     },
     "metadata": {},
     "output_type": "display_data"
    }
   ],
   "source": [
    "import matplotlib.pyplot as plt\n",
    "\n",
    "plt.axvline(x=non_parametric_var_logistic, color=\"red\", linestyle=\"--\", label=f\"VaR Logistic ({non_parametric_var_logistic:.4f})\")\n",
    "plt.axvline(x=VaR, color=\"green\", linestyle=\"--\", label=f\"VaR Historical ({VaR:.4f})\")\n",
    "plt.plot(x_range, kde_values_logistic, label=\"KDE (Logistic Kernel)\")\n",
    "\n",
    "plt.title(\"Kernel Density Estimation and Value at Risk\")\n",
    "plt.xlabel(\"Returns\")\n",
    "plt.ylabel(\"Density\")\n",
    "plt.legend()\n",
    "plt.grid(True)\n",
    "plt.show()"
   ]
  },
  {
   "cell_type": "markdown",
   "id": "6ccecf97-f1e6-483a-9e43-641a821aec7b",
   "metadata": {
    "jp-MarkdownHeadingCollapsed": true
   },
   "source": [
    "### Validation of the non-parametric VaR for the period 2017- 2018 "
   ]
  },
  {
   "cell_type": "code",
   "execution_count": 17,
   "id": "c979debd-7c93-4a9d-b6ab-df1bc664e042",
   "metadata": {},
   "outputs": [
    {
     "data": {
      "text/html": [
       "<div>\n",
       "<style scoped>\n",
       "    .dataframe tbody tr th:only-of-type {\n",
       "        vertical-align: middle;\n",
       "    }\n",
       "\n",
       "    .dataframe tbody tr th {\n",
       "        vertical-align: top;\n",
       "    }\n",
       "\n",
       "    .dataframe thead th {\n",
       "        text-align: right;\n",
       "    }\n",
       "</style>\n",
       "<table border=\"1\" class=\"dataframe\">\n",
       "  <thead>\n",
       "    <tr style=\"text-align: right;\">\n",
       "      <th></th>\n",
       "      <th>Date</th>\n",
       "      <th>Price</th>\n",
       "    </tr>\n",
       "  </thead>\n",
       "  <tbody>\n",
       "    <tr>\n",
       "      <th>513</th>\n",
       "      <td>2017-01-02</td>\n",
       "      <td>5.400</td>\n",
       "    </tr>\n",
       "    <tr>\n",
       "      <th>514</th>\n",
       "      <td>2017-01-03</td>\n",
       "      <td>5.620</td>\n",
       "    </tr>\n",
       "    <tr>\n",
       "      <th>515</th>\n",
       "      <td>2017-01-04</td>\n",
       "      <td>5.641</td>\n",
       "    </tr>\n",
       "    <tr>\n",
       "      <th>516</th>\n",
       "      <td>2017-01-05</td>\n",
       "      <td>5.595</td>\n",
       "    </tr>\n",
       "    <tr>\n",
       "      <th>517</th>\n",
       "      <td>2017-01-06</td>\n",
       "      <td>5.563</td>\n",
       "    </tr>\n",
       "    <tr>\n",
       "      <th>...</th>\n",
       "      <td>...</td>\n",
       "      <td>...</td>\n",
       "    </tr>\n",
       "    <tr>\n",
       "      <th>1018</th>\n",
       "      <td>2018-12-21</td>\n",
       "      <td>4.045</td>\n",
       "    </tr>\n",
       "    <tr>\n",
       "      <th>1019</th>\n",
       "      <td>2018-12-24</td>\n",
       "      <td>4.010</td>\n",
       "    </tr>\n",
       "    <tr>\n",
       "      <th>1020</th>\n",
       "      <td>2018-12-27</td>\n",
       "      <td>3.938</td>\n",
       "    </tr>\n",
       "    <tr>\n",
       "      <th>1021</th>\n",
       "      <td>2018-12-28</td>\n",
       "      <td>4.088</td>\n",
       "    </tr>\n",
       "    <tr>\n",
       "      <th>1022</th>\n",
       "      <td>2018-12-31</td>\n",
       "      <td>4.119</td>\n",
       "    </tr>\n",
       "  </tbody>\n",
       "</table>\n",
       "<p>510 rows × 2 columns</p>\n",
       "</div>"
      ],
      "text/plain": [
       "           Date  Price\n",
       "513  2017-01-02  5.400\n",
       "514  2017-01-03  5.620\n",
       "515  2017-01-04  5.641\n",
       "516  2017-01-05  5.595\n",
       "517  2017-01-06  5.563\n",
       "...         ...    ...\n",
       "1018 2018-12-21  4.045\n",
       "1019 2018-12-24  4.010\n",
       "1020 2018-12-27  3.938\n",
       "1021 2018-12-28  4.088\n",
       "1022 2018-12-31  4.119\n",
       "\n",
       "[510 rows x 2 columns]"
      ]
     },
     "execution_count": 17,
     "metadata": {},
     "output_type": "execute_result"
    }
   ],
   "source": [
    "# Filter the data between January 2017 and December 2018\n",
    "data_filtered_period = data[(data['Date'] >= '2017-01-01') & (data['Date'] <= '2018-12-31')]\n",
    "data_filtered_period"
   ]
  },
  {
   "cell_type": "code",
   "execution_count": 18,
   "id": "a80bab78-55a4-4525-8471-5009d077b58c",
   "metadata": {},
   "outputs": [
    {
     "name": "stdout",
     "output_type": "stream",
     "text": [
      "Proportion of returns ≤ VaR_threshold (-0.043071874142037225): 1.37%\n"
     ]
    }
   ],
   "source": [
    "# Calculate the returns if necessary\n",
    "data_filtered_period['Return'] = data_filtered_period['Price'].pct_change()\n",
    "\n",
    "# Define the given VaR threshold\n",
    "VaR_threshold = non_parametric_var_logistic\n",
    "\n",
    "# Calculate the proportion of returns that are less than or equal to the VaR\n",
    "returns = data_filtered_period['Return']\n",
    "below_var = returns[returns <= VaR_threshold]\n",
    "proportion_below_var = len(below_var) / len(returns)\n",
    "\n",
    "# Display the result\n",
    "print(f\"Proportion of returns ≤ VaR_threshold ({VaR_threshold}): {proportion_below_var * 100:.2f}%\")"
   ]
  },
  {
   "cell_type": "code",
   "execution_count": 19,
   "id": "ccdda698-1f77-4b03-aa2a-bfb92d5bf253",
   "metadata": {},
   "outputs": [
    {
     "data": {
      "image/png": "[encoded data removed]",
      "text/plain": [
       "<Figure size 1000x600 with 1 Axes>"
      ]
     },
     "metadata": {},
     "output_type": "display_data"
    }
   ],
   "source": [
    "plt.figure(figsize=(10, 6))\n",
    "plt.hist(data_filtered_period['Return'], bins=50, alpha=0.75, color='blue', edgecolor='black')\n",
    "plt.axvline(x=VaR_threshold, color=\"red\", linestyle=\"--\", label=f\"VaR threshold ({VaR_threshold:.4f})\")\n",
    "plt.title('Historical Returns of Natixis between january 2017 and december 2018')\n",
    "plt.xlabel('Returns')\n",
    "plt.ylabel('Frequency')\n",
    "plt.legend()\n",
    "plt.show()"
   ]
  },
  {
   "cell_type": "markdown",
   "id": "2afedf9d-0112-4627-a832-068db5ef98e3",
   "metadata": {
    "jp-MarkdownHeadingCollapsed": true
   },
   "source": [
    "### Expected Shortfall"
   ]
  },
  {
   "cell_type": "code",
   "execution_count": 21,
   "id": "391142f0-4f6a-49ec-ad4a-879290046a97",
   "metadata": {},
   "outputs": [
    {
     "name": "stdout",
     "output_type": "stream",
     "text": [
      "ES for the empirical VaR (3.778%): 5.336%\n",
      "ES for the non-parametric VaR (4.307%): 5.820%\n"
     ]
    }
   ],
   "source": [
    "# Calculate Expected Shortfall (ES) for the empirical VaR\n",
    "expected_shortfall = data_filtered[data_filtered['Return'] <= VaR]['Return'].mean()\n",
    "print(f\"ES for the empirical VaR ({-VaR * 100:.3f}%): {-expected_shortfall * 100:.3f}%\")\n",
    "\n",
    "# Calculate Expected Shortfall (ES) for the non-parametric VaR\n",
    "expected_shortfall = data_filtered[data_filtered['Return'] <= non_parametric_var_logistic]['Return'].mean()\n",
    "print(f\"ES for the non-parametric VaR ({-non_parametric_var_logistic * 100:.3f}%): {-expected_shortfall * 100:.3f}%\")"
   ]
  },
  {
   "cell_type": "markdown",
   "id": "1061b393-a878-4757-947c-3740ac4c1173",
   "metadata": {
    "jp-MarkdownHeadingCollapsed": true
   },
   "source": [
    "###  Monte Carlo VaR for Call Options"
   ]
  },
  {
   "cell_type": "code",
   "execution_count": 23,
   "id": "56afc5e0-0f4f-4457-839f-fa874d881099",
   "metadata": {},
   "outputs": [],
   "source": [
    "from sklearn.metrics import mean_squared_error\n",
    "from sklearn.model_selection import TimeSeriesSplit"
   ]
  },
  {
   "cell_type": "code",
   "execution_count": 24,
   "id": "ca0fee11-f149-4a20-89f9-19048a77b6b2",
   "metadata": {},
   "outputs": [
    {
     "data": {
      "text/html": [
       "<div>\n",
       "<style scoped>\n",
       "    .dataframe tbody tr th:only-of-type {\n",
       "        vertical-align: middle;\n",
       "    }\n",
       "\n",
       "    .dataframe tbody tr th {\n",
       "        vertical-align: top;\n",
       "    }\n",
       "\n",
       "    .dataframe thead th {\n",
       "        text-align: right;\n",
       "    }\n",
       "</style>\n",
       "<table border=\"1\" class=\"dataframe\">\n",
       "  <thead>\n",
       "    <tr style=\"text-align: right;\">\n",
       "      <th></th>\n",
       "      <th>Date</th>\n",
       "      <th>Price</th>\n",
       "    </tr>\n",
       "  </thead>\n",
       "  <tbody>\n",
       "    <tr>\n",
       "      <th>0</th>\n",
       "      <td>2015-01-02</td>\n",
       "      <td>5.621</td>\n",
       "    </tr>\n",
       "    <tr>\n",
       "      <th>1</th>\n",
       "      <td>2015-01-05</td>\n",
       "      <td>5.424</td>\n",
       "    </tr>\n",
       "    <tr>\n",
       "      <th>2</th>\n",
       "      <td>2015-01-06</td>\n",
       "      <td>5.329</td>\n",
       "    </tr>\n",
       "    <tr>\n",
       "      <th>3</th>\n",
       "      <td>2015-01-07</td>\n",
       "      <td>5.224</td>\n",
       "    </tr>\n",
       "    <tr>\n",
       "      <th>4</th>\n",
       "      <td>2015-01-08</td>\n",
       "      <td>5.453</td>\n",
       "    </tr>\n",
       "    <tr>\n",
       "      <th>...</th>\n",
       "      <td>...</td>\n",
       "      <td>...</td>\n",
       "    </tr>\n",
       "    <tr>\n",
       "      <th>1018</th>\n",
       "      <td>2018-12-21</td>\n",
       "      <td>4.045</td>\n",
       "    </tr>\n",
       "    <tr>\n",
       "      <th>1019</th>\n",
       "      <td>2018-12-24</td>\n",
       "      <td>4.010</td>\n",
       "    </tr>\n",
       "    <tr>\n",
       "      <th>1020</th>\n",
       "      <td>2018-12-27</td>\n",
       "      <td>3.938</td>\n",
       "    </tr>\n",
       "    <tr>\n",
       "      <th>1021</th>\n",
       "      <td>2018-12-28</td>\n",
       "      <td>4.088</td>\n",
       "    </tr>\n",
       "    <tr>\n",
       "      <th>1022</th>\n",
       "      <td>2018-12-31</td>\n",
       "      <td>4.119</td>\n",
       "    </tr>\n",
       "  </tbody>\n",
       "</table>\n",
       "<p>1023 rows × 2 columns</p>\n",
       "</div>"
      ],
      "text/plain": [
       "           Date  Price\n",
       "0    2015-01-02  5.621\n",
       "1    2015-01-05  5.424\n",
       "2    2015-01-06  5.329\n",
       "3    2015-01-07  5.224\n",
       "4    2015-01-08  5.453\n",
       "...         ...    ...\n",
       "1018 2018-12-21  4.045\n",
       "1019 2018-12-24  4.010\n",
       "1020 2018-12-27  3.938\n",
       "1021 2018-12-28  4.088\n",
       "1022 2018-12-31  4.119\n",
       "\n",
       "[1023 rows x 2 columns]"
      ]
     },
     "execution_count": 24,
     "metadata": {},
     "output_type": "execute_result"
    }
   ],
   "source": [
    "# Filter the data between January 2015 and December 2016\n",
    "data_filtered_carlo = data[(data['Date'] >= '2015-01-01') & (data['Date'] <= '2018-12-31')]\n",
    "data_filtered_carlo"
   ]
  },
  {
   "cell_type": "code",
   "execution_count": 25,
   "id": "da7e5449-6670-48be-b5e6-7620497419b5",
   "metadata": {},
   "outputs": [],
   "source": [
    "# Calculate simple returns\n",
    "data_filtered_carlo['Return'] = data_filtered_carlo['Price'].pct_change()\n",
    "\n",
    "# Calculate logarithmic returns\n",
    "data_filtered_carlo['Log_Return'] = np.log(data_filtered_carlo['Price'] / data_filtered_carlo['Price'].shift(1))\n",
    "data_filtered_carlo.dropna(inplace=True)\n",
    "\n",
    "# Initialise the smoothing for the first date\n",
    "data_filtered_carlo.loc[data_filtered_carlo['Date'] == '2015-01-05', 'Lissage_Log_Return'] = data_filtered_carlo.loc[data_filtered_carlo['Date'] == '2015-01-05', 'Log_Return']"
   ]
  },
  {
   "cell_type": "code",
   "execution_count": 26,
   "id": "b609396f-2d49-4983-825a-a8137b9b2342",
   "metadata": {},
   "outputs": [
    {
     "name": "stdout",
     "output_type": "stream",
     "text": [
      "Lambda optimal basé sur validation croisée : 0.90\n"
     ]
    }
   ],
   "source": [
    "# Testing different lambda values\n",
    "lambdas = [0.85, 0.90, 0.94, 0.97]\n",
    "# List to store cross-validation errors\n",
    "errors_cv = []  \n",
    "\n",
    "# Cross-validation for time series\n",
    "tscv = TimeSeriesSplit(n_splits=3)\n",
    "\n",
    "for lissage in lambdas:\n",
    "    mse_fold = []\n",
    "    for train_index, test_index in tscv.split(data_filtered_carlo):\n",
    "        train = data_filtered_carlo.iloc[train_index]\n",
    "        test = data_filtered_carlo.iloc[test_index]\n",
    "        \n",
    "        # Calculate smoothing on training set\n",
    "        train['Lissage_Test'] = train['Log_Return'] * lissage + \\\n",
    "                                (1 - lissage) * train['Log_Return'].shift(1)\n",
    "        \n",
    "        # Apply smoothing to test set\n",
    "        test['Lissage_Test'] = train['Lissage_Test'].iloc[-1] * lissage + \\\n",
    "                               (1 - lissage) * test['Log_Return'].shift(1)\n",
    "        \n",
    "        # Calculate the MSE for the current fold\n",
    "        mse = mean_squared_error(test['Log_Return'].iloc[1:], test['Lissage_Test'].iloc[1:])\n",
    "        mse_fold.append(mse)\n",
    "    \n",
    "    # Add the average MSE for this lambda\n",
    "    errors_cv.append(np.mean(mse_fold))\n",
    "\n",
    "# Find the optimal lambda\n",
    "optimal_lambda_cv = lambdas[np.argmin(errors_cv)]\n",
    "\n",
    "print(f\"Lambda optimal basé sur validation croisée : {optimal_lambda_cv:.2f}\")"
   ]
  },
  {
   "cell_type": "code",
   "execution_count": 27,
   "id": "084eb178-749b-44fb-9c04-da3ef32d5be2",
   "metadata": {},
   "outputs": [
    {
     "name": "stdout",
     "output_type": "stream",
     "text": [
      "        Date  Price    Return  Log_Return  Lissage_Log_Return\n",
      "1 2015-01-05  5.424 -0.035047   -0.035676           -0.035676\n",
      "2 2015-01-06  5.329 -0.017515   -0.017670           -0.019471\n",
      "3 2015-01-07  5.224 -0.019704   -0.019900           -0.019677\n",
      "4 2015-01-08  5.453  0.043836    0.042903            0.036622\n",
      "5 2015-01-09  5.340 -0.020723   -0.020940           -0.014556\n"
     ]
    }
   ],
   "source": [
    "lissage = 0.90\n",
    "data_filtered_carlo['Lissage_Log_Return'] = data_filtered_carlo['Lissage_Log_Return'].fillna(data_filtered_carlo['Log_Return'] * lissage + (1 - lissage) * data_filtered_carlo['Log_Return'].shift(1))\n",
    "data_filtered_carlo.dropna(inplace=True)\n",
    "\n",
    "print(data_filtered_carlo.head())"
   ]
  },
  {
   "cell_type": "code",
   "execution_count": 28,
   "id": "a756d854-7325-4eb3-a8fd-18b77d68e4c1",
   "metadata": {},
   "outputs": [],
   "source": [
    "mu_minus_sigma_carre = data_filtered_carlo['Lissage_Log_Return'].mean()\n",
    "sigma = data_filtered_carlo['Lissage_Log_Return'].std()"
   ]
  },
  {
   "cell_type": "code",
   "execution_count": 29,
   "id": "ffcab6bd-543f-4b7e-9f92-e8fcfab6475e",
   "metadata": {},
   "outputs": [
    {
     "data": {
      "text/plain": [
       "-0.0003084366224651973"
      ]
     },
     "execution_count": 29,
     "metadata": {},
     "output_type": "execute_result"
    }
   ],
   "source": [
    "mu_minus_sigma_carre"
   ]
  },
  {
   "cell_type": "code",
   "execution_count": 30,
   "id": "8f3dba73-5103-4358-aef4-7bb793bf77cb",
   "metadata": {},
   "outputs": [
    {
     "data": {
      "text/plain": [
       "0.018608142679754174"
      ]
     },
     "execution_count": 30,
     "metadata": {},
     "output_type": "execute_result"
    }
   ],
   "source": [
    "sigma"
   ]
  },
  {
   "cell_type": "code",
   "execution_count": 31,
   "id": "638006a3-7d25-4b83-b306-10be06343522",
   "metadata": {},
   "outputs": [],
   "source": [
    "Last_Price = pd.Series(data_filtered_carlo[\"Price\"].iloc[-1])"
   ]
  },
  {
   "cell_type": "code",
   "execution_count": 32,
   "id": "59b6ee07-c5fb-484c-9643-833f91f8056a",
   "metadata": {
    "scrolled": true
   },
   "outputs": [
    {
     "data": {
      "text/plain": [
       "0    4.119\n",
       "dtype: float64"
      ]
     },
     "execution_count": 32,
     "metadata": {},
     "output_type": "execute_result"
    }
   ],
   "source": [
    "Last_Price"
   ]
  },
  {
   "cell_type": "code",
   "execution_count": 33,
   "id": "d76c1032-f7c7-4bac-839a-01fe308b9bf0",
   "metadata": {},
   "outputs": [],
   "source": [
    "for i in range(1000):\n",
    "    Bt = np.random.randn()\n",
    "    Last_Price[i+1] = 4.119 * np.exp(mu_minus_sigma_carre + sigma * Bt)"
   ]
  },
  {
   "cell_type": "code",
   "execution_count": 34,
   "id": "e4331727-c90e-4d7f-804a-03af5be51976",
   "metadata": {},
   "outputs": [
    {
     "data": {
      "text/plain": [
       "0       4.119000\n",
       "1       4.143104\n",
       "2       4.013469\n",
       "3       4.205690\n",
       "4       4.004128\n",
       "          ...   \n",
       "996     4.130644\n",
       "997     4.231726\n",
       "998     4.117991\n",
       "999     4.156659\n",
       "1000    4.034647\n",
       "Length: 1001, dtype: float64"
      ]
     },
     "execution_count": 34,
     "metadata": {},
     "output_type": "execute_result"
    }
   ],
   "source": [
    "Last_Price"
   ]
  },
  {
   "cell_type": "code",
   "execution_count": 35,
   "id": "28d7e8d6-ca24-48dc-bf02-89900ac56f9b",
   "metadata": {},
   "outputs": [
    {
     "data": {
      "image/png": "[encoded data removed]",
      "text/plain": [
       "<Figure size 640x480 with 1 Axes>"
      ]
     },
     "metadata": {},
     "output_type": "display_data"
    }
   ],
   "source": [
    "# Plot option prices\n",
    "plt.plot(Last_Price)\n",
    "plt.title(\"Simulated Stock Prices of Natixis\")\n",
    "plt.xlabel(\"Index\")\n",
    "plt.ylabel(\"Simulated Stock Prices of Natixis on 31/12/2018\")\n",
    "plt.show()"
   ]
  },
  {
   "cell_type": "code",
   "execution_count": 36,
   "id": "398d6bc2-167b-4aa6-9d9b-aef855527fd5",
   "metadata": {},
   "outputs": [
    {
     "data": {
      "text/html": [
       "<div>\n",
       "<style scoped>\n",
       "    .dataframe tbody tr th:only-of-type {\n",
       "        vertical-align: middle;\n",
       "    }\n",
       "\n",
       "    .dataframe tbody tr th {\n",
       "        vertical-align: top;\n",
       "    }\n",
       "\n",
       "    .dataframe thead th {\n",
       "        text-align: right;\n",
       "    }\n",
       "</style>\n",
       "<table border=\"1\" class=\"dataframe\">\n",
       "  <thead>\n",
       "    <tr style=\"text-align: right;\">\n",
       "      <th></th>\n",
       "      <th>d1</th>\n",
       "      <th>d2</th>\n",
       "      <th>Call Price</th>\n",
       "    </tr>\n",
       "  </thead>\n",
       "  <tbody>\n",
       "    <tr>\n",
       "      <th>0</th>\n",
       "      <td>0.042637</td>\n",
       "      <td>-0.042637</td>\n",
       "      <td>0.140082</td>\n",
       "    </tr>\n",
       "    <tr>\n",
       "      <th>1</th>\n",
       "      <td>0.111062</td>\n",
       "      <td>0.025789</td>\n",
       "      <td>0.152873</td>\n",
       "    </tr>\n",
       "    <tr>\n",
       "      <th>2</th>\n",
       "      <td>-0.261731</td>\n",
       "      <td>-0.347004</td>\n",
       "      <td>0.091874</td>\n",
       "    </tr>\n",
       "    <tr>\n",
       "      <th>3</th>\n",
       "      <td>0.286888</td>\n",
       "      <td>0.201614</td>\n",
       "      <td>0.189100</td>\n",
       "    </tr>\n",
       "    <tr>\n",
       "      <th>4</th>\n",
       "      <td>-0.289057</td>\n",
       "      <td>-0.374330</td>\n",
       "      <td>0.088217</td>\n",
       "    </tr>\n",
       "    <tr>\n",
       "      <th>...</th>\n",
       "      <td>...</td>\n",
       "      <td>...</td>\n",
       "      <td>...</td>\n",
       "    </tr>\n",
       "    <tr>\n",
       "      <th>996</th>\n",
       "      <td>0.075740</td>\n",
       "      <td>-0.009533</td>\n",
       "      <td>0.146179</td>\n",
       "    </tr>\n",
       "    <tr>\n",
       "      <th>997</th>\n",
       "      <td>0.359262</td>\n",
       "      <td>0.273988</td>\n",
       "      <td>0.205416</td>\n",
       "    </tr>\n",
       "    <tr>\n",
       "      <th>998</th>\n",
       "      <td>0.039763</td>\n",
       "      <td>-0.045510</td>\n",
       "      <td>0.139561</td>\n",
       "    </tr>\n",
       "    <tr>\n",
       "      <th>999</th>\n",
       "      <td>0.149367</td>\n",
       "      <td>0.064094</td>\n",
       "      <td>0.160352</td>\n",
       "    </tr>\n",
       "    <tr>\n",
       "      <th>1000</th>\n",
       "      <td>-0.200013</td>\n",
       "      <td>-0.285286</td>\n",
       "      <td>0.100531</td>\n",
       "    </tr>\n",
       "  </tbody>\n",
       "</table>\n",
       "<p>1001 rows × 3 columns</p>\n",
       "</div>"
      ],
      "text/plain": [
       "            d1        d2  Call Price\n",
       "0     0.042637 -0.042637    0.140082\n",
       "1     0.111062  0.025789    0.152873\n",
       "2    -0.261731 -0.347004    0.091874\n",
       "3     0.286888  0.201614    0.189100\n",
       "4    -0.289057 -0.374330    0.088217\n",
       "...        ...       ...         ...\n",
       "996   0.075740 -0.009533    0.146179\n",
       "997   0.359262  0.273988    0.205416\n",
       "998   0.039763 -0.045510    0.139561\n",
       "999   0.149367  0.064094    0.160352\n",
       "1000 -0.200013 -0.285286    0.100531\n",
       "\n",
       "[1001 rows x 3 columns]"
      ]
     },
     "execution_count": 36,
     "metadata": {},
     "output_type": "execute_result"
    }
   ],
   "source": [
    "black_scholes = pd.DataFrame()\n",
    "# 4.119 is the last historical price\n",
    "black_scholes[\"d1\"] = (np.log(Last_Price/4.119) + (sigma**2) / 2 * 21) / (sigma * np.sqrt(21))\n",
    "black_scholes[\"d2\"] = black_scholes[\"d1\"] - sigma * np.sqrt(21)\n",
    "black_scholes[\"Call Price\"] = Last_Price * norm.cdf(black_scholes[\"d1\"]) - 4.119 * norm.cdf(black_scholes[\"d2\"])\n",
    "black_scholes"
   ]
  },
  {
   "cell_type": "code",
   "execution_count": 37,
   "id": "9674fed4-86a0-419a-9f7f-8efd418537e3",
   "metadata": {},
   "outputs": [
    {
     "data": {
      "image/png": "[encoded data removed]",
      "text/plain": [
       "<Figure size 1000x600 with 1 Axes>"
      ]
     },
     "metadata": {},
     "output_type": "display_data"
    },
    {
     "name": "stdout",
     "output_type": "stream",
     "text": [
      "Value at Risk (VaR) at 95.0% confidence level: 0.08545789970940133\n"
     ]
    }
   ],
   "source": [
    "import numpy as np\n",
    "import matplotlib.pyplot as plt\n",
    "\n",
    "# Define the confidence level\n",
    "confidence_level = 0.95  \n",
    "\n",
    "# Extract call prices\n",
    "call_prices = black_scholes[\"Call Price\"]\n",
    "\n",
    "# Calculate Value at Risk (VaR)\n",
    "VaR_percentile = np.percentile(call_prices, (1 - confidence_level) * 100)\n",
    "\n",
    "# Draw the histogram of call option prices\n",
    "plt.figure(figsize=(10, 6))\n",
    "plt.hist(call_prices, bins=30, color='skyblue', edgecolor='black', alpha=0.7, label='Call option price distribution')\n",
    "\n",
    "# Add a vertical line for VaR\n",
    "plt.axvline(x=VaR_percentile, color='red', linestyle='--', linewidth=2, label=f'VaR at {confidence_level*100:.0f}%')\n",
    "\n",
    "plt.title(\"Distribution of Call Option Prices with Value at Risk (VaR)\", fontsize=14)\n",
    "plt.xlabel(\"Call Option Prices\", fontsize=12)\n",
    "plt.ylabel(\"Frequency\", fontsize=12)\n",
    "plt.legend(fontsize=10)\n",
    "plt.grid(True, linestyle='--', alpha=0.6)\n",
    "\n",
    "\n",
    "# Display the plot\n",
    "plt.show()\n",
    "\n",
    "# Display VaR\n",
    "print(f\"Value at Risk (VaR) at {confidence_level * 100}% confidence level: {VaR_percentile}\")\n"
   ]
  },
  {
   "cell_type": "markdown",
   "id": "090626db-f1ed-4601-9a66-222de0e3ad63",
   "metadata": {},
   "source": [
    "##  Extreme Value Theory"
   ]
  },
  {
   "cell_type": "code",
   "execution_count": 39,
   "id": "92acf615-1409-4745-9829-dad333d939f8",
   "metadata": {},
   "outputs": [
    {
     "data": {
      "text/html": [
       "<div>\n",
       "<style scoped>\n",
       "    .dataframe tbody tr th:only-of-type {\n",
       "        vertical-align: middle;\n",
       "    }\n",
       "\n",
       "    .dataframe tbody tr th {\n",
       "        vertical-align: top;\n",
       "    }\n",
       "\n",
       "    .dataframe thead th {\n",
       "        text-align: right;\n",
       "    }\n",
       "</style>\n",
       "<table border=\"1\" class=\"dataframe\">\n",
       "  <thead>\n",
       "    <tr style=\"text-align: right;\">\n",
       "      <th></th>\n",
       "      <th>Date</th>\n",
       "      <th>Price</th>\n",
       "      <th>return</th>\n",
       "      <th>return_positive</th>\n",
       "      <th>return_negative</th>\n",
       "    </tr>\n",
       "  </thead>\n",
       "  <tbody>\n",
       "    <tr>\n",
       "      <th>0</th>\n",
       "      <td>2015-01-02</td>\n",
       "      <td>5.621</td>\n",
       "      <td>NaN</td>\n",
       "      <td>NaN</td>\n",
       "      <td>NaN</td>\n",
       "    </tr>\n",
       "    <tr>\n",
       "      <th>1</th>\n",
       "      <td>2015-01-05</td>\n",
       "      <td>5.424</td>\n",
       "      <td>-0.035047</td>\n",
       "      <td>NaN</td>\n",
       "      <td>-0.035047</td>\n",
       "    </tr>\n",
       "    <tr>\n",
       "      <th>2</th>\n",
       "      <td>2015-01-06</td>\n",
       "      <td>5.329</td>\n",
       "      <td>-0.017515</td>\n",
       "      <td>NaN</td>\n",
       "      <td>-0.017515</td>\n",
       "    </tr>\n",
       "    <tr>\n",
       "      <th>3</th>\n",
       "      <td>2015-01-07</td>\n",
       "      <td>5.224</td>\n",
       "      <td>-0.019704</td>\n",
       "      <td>NaN</td>\n",
       "      <td>-0.019704</td>\n",
       "    </tr>\n",
       "    <tr>\n",
       "      <th>4</th>\n",
       "      <td>2015-01-08</td>\n",
       "      <td>5.453</td>\n",
       "      <td>0.043836</td>\n",
       "      <td>0.043836</td>\n",
       "      <td>NaN</td>\n",
       "    </tr>\n",
       "    <tr>\n",
       "      <th>...</th>\n",
       "      <td>...</td>\n",
       "      <td>...</td>\n",
       "      <td>...</td>\n",
       "      <td>...</td>\n",
       "      <td>...</td>\n",
       "    </tr>\n",
       "    <tr>\n",
       "      <th>1018</th>\n",
       "      <td>2018-12-21</td>\n",
       "      <td>4.045</td>\n",
       "      <td>-0.001481</td>\n",
       "      <td>NaN</td>\n",
       "      <td>-0.001481</td>\n",
       "    </tr>\n",
       "    <tr>\n",
       "      <th>1019</th>\n",
       "      <td>2018-12-24</td>\n",
       "      <td>4.010</td>\n",
       "      <td>-0.008653</td>\n",
       "      <td>NaN</td>\n",
       "      <td>-0.008653</td>\n",
       "    </tr>\n",
       "    <tr>\n",
       "      <th>1020</th>\n",
       "      <td>2018-12-27</td>\n",
       "      <td>3.938</td>\n",
       "      <td>-0.017955</td>\n",
       "      <td>NaN</td>\n",
       "      <td>-0.017955</td>\n",
       "    </tr>\n",
       "    <tr>\n",
       "      <th>1021</th>\n",
       "      <td>2018-12-28</td>\n",
       "      <td>4.088</td>\n",
       "      <td>0.038090</td>\n",
       "      <td>0.038090</td>\n",
       "      <td>NaN</td>\n",
       "    </tr>\n",
       "    <tr>\n",
       "      <th>1022</th>\n",
       "      <td>2018-12-31</td>\n",
       "      <td>4.119</td>\n",
       "      <td>0.007583</td>\n",
       "      <td>0.007583</td>\n",
       "      <td>NaN</td>\n",
       "    </tr>\n",
       "  </tbody>\n",
       "</table>\n",
       "<p>1023 rows × 5 columns</p>\n",
       "</div>"
      ],
      "text/plain": [
       "           Date  Price    return  return_positive  return_negative\n",
       "0    2015-01-02  5.621       NaN              NaN              NaN\n",
       "1    2015-01-05  5.424 -0.035047              NaN        -0.035047\n",
       "2    2015-01-06  5.329 -0.017515              NaN        -0.017515\n",
       "3    2015-01-07  5.224 -0.019704              NaN        -0.019704\n",
       "4    2015-01-08  5.453  0.043836         0.043836              NaN\n",
       "...         ...    ...       ...              ...              ...\n",
       "1018 2018-12-21  4.045 -0.001481              NaN        -0.001481\n",
       "1019 2018-12-24  4.010 -0.008653              NaN        -0.008653\n",
       "1020 2018-12-27  3.938 -0.017955              NaN        -0.017955\n",
       "1021 2018-12-28  4.088  0.038090         0.038090              NaN\n",
       "1022 2018-12-31  4.119  0.007583         0.007583              NaN\n",
       "\n",
       "[1023 rows x 5 columns]"
      ]
     },
     "execution_count": 39,
     "metadata": {},
     "output_type": "execute_result"
    }
   ],
   "source": [
    "data_filtered_GEV = data\n",
    "data_filtered_GEV['return']=(data_filtered_GEV['Price']-data_filtered_GEV['Price'].shift(1))/data_filtered_GEV['Price'].shift(1)\n",
    "data_filtered_GEV['return_positive'] = data_filtered_GEV['return'].where(data_filtered_GEV['return'] > 0, np.nan)\n",
    "data_filtered_GEV['return_negative'] = data_filtered_GEV['return'].where(data_filtered_GEV['return'] < 0, np.nan)\n",
    "data_filtered_GEV"
   ]
  },
  {
   "cell_type": "code",
   "execution_count": 40,
   "id": "39c1ae4b-5277-4f5e-aef4-e335fad8e185",
   "metadata": {},
   "outputs": [
    {
     "name": "stdout",
     "output_type": "stream",
     "text": [
      "Positive Returns:\n",
      "4     0.043836\n",
      "7     0.025836\n",
      "9     0.020523\n",
      "10    0.013284\n",
      "11    0.026038\n",
      "Name: return_positive, dtype: float64\n",
      "\n",
      "Negative Returns (absolute values):\n",
      "1   -0.035047\n",
      "2   -0.017515\n",
      "3   -0.019704\n",
      "5   -0.020723\n",
      "6   -0.014232\n",
      "Name: return_negative, dtype: float64\n"
     ]
    }
   ],
   "source": [
    "# Create a DataFrame for positive returns\n",
    "return_positive = pd.DataFrame()\n",
    "return_positive= data_filtered_GEV['return_positive'].dropna()\n",
    "sort_gains = np.sort(return_positive)\n",
    "\n",
    "# Create a DataFrame for negative returns (absolute values)\n",
    "return_negative = pd.DataFrame()\n",
    "return_negative= data_filtered_GEV['return_negative'].dropna()\n",
    "sort_losses = np.sort (abs(return_negative))\n",
    "\n",
    "\n",
    "\n",
    "# Display the first few rows for each DataFrame\n",
    "print(\"Positive Returns:\")\n",
    "print(return_positive.head())\n",
    "\n",
    "print(\"\\nNegative Returns (absolute values):\")\n",
    "print(return_negative.head())"
   ]
  },
  {
   "cell_type": "markdown",
   "id": "8a43d2ab-8ef1-4d43-93d8-d065819e252a",
   "metadata": {
    "jp-MarkdownHeadingCollapsed": true
   },
   "source": [
    "### GEV Parameters with the estimator of Pickands ."
   ]
  },
  {
   "cell_type": "code",
   "execution_count": 42,
   "id": "92c125c0-0a52-499d-9d1b-a1194c3b1143",
   "metadata": {},
   "outputs": [],
   "source": [
    "import numpy as np\n",
    "\n",
    "def pickands_estimator_l(extreme_values):\n",
    "    \n",
    "    # Calculate the Pickands estimator for the shape parameter (xi) of the GEV distribution.\n",
    "    \n",
    "    n = len(extreme_values)\n",
    "    \n",
    "    # Define k as log(n), ensure it's an integer and k > 0\n",
    "    k = int(np.log(n))  \n",
    "    val_1 = n - k + 1\n",
    "    val_2 = n - 2 * k + 1\n",
    "    val_3 = n - 4 * k + 1\n",
    "    \n",
    "    # Pickands estimator formula\n",
    "    xi = (1 / np.log(2)) * np.log(\n",
    "        (extreme_values[val_1 - 1 ] - extreme_values[val_2 - 1 ]) /\n",
    "        (extreme_values[val_2 - 1  ] - extreme_values[val_3 - 1 ])\n",
    "    )\n",
    "    return xi"
   ]
  },
  {
   "cell_type": "code",
   "execution_count": 43,
   "id": "18f0cc27-9dbf-4c80-a48c-0dced2a2895f",
   "metadata": {},
   "outputs": [],
   "source": [
    "# Estimate Xi for both tails\n",
    "xi_upper_tail_pickands_log = pickands_estimator_l(sort_gains)\n",
    "xi_lower_tail_pickands__log = pickands_estimator_l(sort_losses)"
   ]
  },
  {
   "cell_type": "code",
   "execution_count": 44,
   "id": "fe91aa74-75cc-4c58-be12-2c6805474844",
   "metadata": {},
   "outputs": [
    {
     "data": {
      "text/plain": [
       "0.5772338569463286"
      ]
     },
     "execution_count": 44,
     "metadata": {},
     "output_type": "execute_result"
    }
   ],
   "source": [
    "xi_upper_tail_pickands_log"
   ]
  },
  {
   "cell_type": "code",
   "execution_count": 45,
   "id": "cac1afbe-7d5b-4674-b599-6e320b4a70d6",
   "metadata": {},
   "outputs": [
    {
     "data": {
      "text/plain": [
       "-0.508971577934174"
      ]
     },
     "execution_count": 45,
     "metadata": {},
     "output_type": "execute_result"
    }
   ],
   "source": [
    "xi_lower_tail_pickands__log"
   ]
  },
  {
   "cell_type": "code",
   "execution_count": 46,
   "id": "b6efd15e-3c42-431c-9d9e-1a973649e41f",
   "metadata": {},
   "outputs": [],
   "source": [
    "import numpy as np\n",
    "\n",
    "def pickands_estimator(extreme_values):\n",
    "    \n",
    "    # Calculate the Pickands estimator for the shape parameter (xi) of the GEV distribution.\n",
    "    \n",
    "    n = len(extreme_values)\n",
    "    \n",
    "    # Define k as sqrt(n), ensure it's an integer and k > 0\n",
    "    k = int(np.sqrt(n))  \n",
    "    val_1 = n - k + 1\n",
    "    val_2 = n - 2 * k + 1\n",
    "    val_3 = n - 4 * k + 1\n",
    "    \n",
    "    # Pickands estimator formula\n",
    "    xi = (1 / np.log(2)) * np.log(\n",
    "        (extreme_values[val_1 - 1 ] - extreme_values[val_2 - 1 ]) /\n",
    "        (extreme_values[val_2 - 1  ] - extreme_values[val_3 - 1 ])\n",
    "    )\n",
    "    return xi"
   ]
  },
  {
   "cell_type": "code",
   "execution_count": 47,
   "id": "47b5a3d4-6f15-4b48-9781-9165c2eecaaa",
   "metadata": {},
   "outputs": [],
   "source": [
    "# Estimate Xi for both tails\n",
    "xi_upper_tail_pickands_sqrt = pickands_estimator(sort_gains)\n",
    "xi_lower_tail_pickands_sqrt = pickands_estimator(sort_losses)"
   ]
  },
  {
   "cell_type": "code",
   "execution_count": 48,
   "id": "e0f1fcbb-448d-4795-b163-e5d9c27f4e3a",
   "metadata": {},
   "outputs": [
    {
     "data": {
      "text/plain": [
       "0.7195506129332101"
      ]
     },
     "execution_count": 48,
     "metadata": {},
     "output_type": "execute_result"
    }
   ],
   "source": [
    "xi_upper_tail_pickands_sqrt"
   ]
  },
  {
   "cell_type": "code",
   "execution_count": 49,
   "id": "60b22e7c-d755-407b-8f85-c3c1423df2e8",
   "metadata": {},
   "outputs": [
    {
     "data": {
      "text/plain": [
       "0.4081905706152293"
      ]
     },
     "execution_count": 49,
     "metadata": {},
     "output_type": "execute_result"
    }
   ],
   "source": [
    "xi_lower_tail_pickands_sqrt"
   ]
  },
  {
   "cell_type": "markdown",
   "id": "842072a7-1f8c-4f15-9fd4-00c02f9c9233",
   "metadata": {
    "jp-MarkdownHeadingCollapsed": true
   },
   "source": [
    "### GEV Parameters with the estimator of Hill"
   ]
  },
  {
   "cell_type": "code",
   "execution_count": 51,
   "id": "4756b2bc-2f2c-49b8-b1dd-bcb8008b2941",
   "metadata": {},
   "outputs": [],
   "source": [
    "import numpy as np\n",
    "\n",
    "def hill_estimator(extreme_values):\n",
    "   \n",
    "    # Sort the extreme values in ascending order\n",
    "    extreme_values = np.sort(extreme_values)\n",
    "    \n",
    "    # Length of the data\n",
    "    n = len(extreme_values)\n",
    "    \n",
    "    # Define k as floor(sqrt(n))\n",
    "    k = int(np.sqrt(n))\n",
    "    if k <= 0:\n",
    "        raise ValueError(\"k must be greater than 0. Ensure the sample size is sufficiently large.\")\n",
    "    \n",
    "    # Hill estimator formula\n",
    "    top_k_values = extreme_values[n - k:]  \n",
    "    reference_value = extreme_values[n - k]  \n",
    "    log_ratios = np.log(top_k_values / reference_value)\n",
    "    xi_hill = (1 / k) * np.sum(log_ratios)\n",
    "    \n",
    "    return xi_hill"
   ]
  },
  {
   "cell_type": "code",
   "execution_count": 52,
   "id": "706e241b-4298-46ff-a928-d51fa30164d9",
   "metadata": {},
   "outputs": [],
   "source": [
    "# Estimate Xi for both tails\n",
    "xi_upper_tail_hill_sqrt = hill_estimator(sort_gains)\n",
    "xi_lower_tail_hill_sqrt = hill_estimator(sort_losses)"
   ]
  },
  {
   "cell_type": "code",
   "execution_count": 53,
   "id": "3693d910-55e3-419f-8a77-f1e366da3d3b",
   "metadata": {},
   "outputs": [
    {
     "data": {
      "text/plain": [
       "0.21537827843774737"
      ]
     },
     "execution_count": 53,
     "metadata": {},
     "output_type": "execute_result"
    }
   ],
   "source": [
    "xi_upper_tail_hill_sqrt"
   ]
  },
  {
   "cell_type": "code",
   "execution_count": 54,
   "id": "1d2bd260-a55b-4e2a-b164-3d4a918449da",
   "metadata": {},
   "outputs": [
    {
     "data": {
      "text/plain": [
       "0.21952614389640798"
      ]
     },
     "execution_count": 54,
     "metadata": {},
     "output_type": "execute_result"
    }
   ],
   "source": [
    "xi_lower_tail_hill_sqrt"
   ]
  },
  {
   "cell_type": "markdown",
   "id": "f0a75bde-da0a-4fe4-9364-f79630aaec37",
   "metadata": {
    "jp-MarkdownHeadingCollapsed": true
   },
   "source": [
    "###  Extremal Index using Runs declustering"
   ]
  },
  {
   "cell_type": "code",
   "execution_count": 56,
   "id": "dc3319bc-ace6-4851-b2eb-abbb72ca6194",
   "metadata": {},
   "outputs": [],
   "source": [
    "def estimate_theta(returns, threshold_percentile=95, run_length=2):\n",
    "    # Define the threshold\n",
    "    threshold = np.percentile(returns, threshold_percentile)\n",
    "    \n",
    "    # Identify extreme indices\n",
    "    extreme_indices = np.where(returns > threshold)[0]\n",
    "    \n",
    "    # Identify clusters\n",
    "    clusters = np.split(extreme_indices, np.where(np.diff(extreme_indices) > run_length)[0] + 1)\n",
    "    \n",
    "    # Calculate θ\n",
    "    N_e = len(extreme_indices)  \n",
    "    N_c = len(clusters)       \n",
    "    \n",
    "    return N_c / N_e if N_e > 0 else 0"
   ]
  },
  {
   "cell_type": "code",
   "execution_count": 57,
   "id": "3fda08dc-46c3-4967-b2ef-0fc916b146c7",
   "metadata": {},
   "outputs": [],
   "source": [
    "return_negative = abs(return_negative)"
   ]
  },
  {
   "cell_type": "code",
   "execution_count": 58,
   "id": "eee3751e-1882-43da-9c32-13ff913071d5",
   "metadata": {},
   "outputs": [
    {
     "name": "stdout",
     "output_type": "stream",
     "text": [
      "Index extrémal (θ) pour les gains extrêmes : 0.6000\n",
      "Index extrémal (θ) pour les pertes extrêmes : 0.5769\n"
     ]
    }
   ],
   "source": [
    "# Estimate θ for positive returns\n",
    "theta_positive = estimate_theta(return_positive, threshold_percentile=95, run_length=5)\n",
    "print(f\"Index extrémal (θ) pour les gains extrêmes : {theta_positive:.4f}\")\n",
    "\n",
    "# Estimate θ for negative returns\n",
    "theta_negative = estimate_theta(return_negative, threshold_percentile=95, run_length=5)\n",
    "print(f\"Index extrémal (θ) pour les pertes extrêmes : {theta_negative:.4f}\")"
   ]
  },
  {
   "cell_type": "markdown",
   "id": "27af78e0-b482-4433-bf84-7cece6ffc243",
   "metadata": {},
   "source": [
    "## Almgren and Chriss Model"
   ]
  },
  {
   "cell_type": "code",
   "execution_count": 60,
   "id": "003061af-29a5-47cb-9cc2-30cf036fa5bc",
   "metadata": {},
   "outputs": [
    {
     "data": {
      "text/html": [
       "<div>\n",
       "<style scoped>\n",
       "    .dataframe tbody tr th:only-of-type {\n",
       "        vertical-align: middle;\n",
       "    }\n",
       "\n",
       "    .dataframe tbody tr th {\n",
       "        vertical-align: top;\n",
       "    }\n",
       "\n",
       "    .dataframe thead th {\n",
       "        text-align: right;\n",
       "    }\n",
       "</style>\n",
       "<table border=\"1\" class=\"dataframe\">\n",
       "  <thead>\n",
       "    <tr style=\"text-align: right;\">\n",
       "      <th></th>\n",
       "      <th>transaction date (1=1day=24 hours)</th>\n",
       "      <th>bid-ask spread</th>\n",
       "      <th>volume of the transaction (if known)</th>\n",
       "      <th>Sign of the transaction</th>\n",
       "      <th>Price (before transaction)</th>\n",
       "    </tr>\n",
       "  </thead>\n",
       "  <tbody>\n",
       "    <tr>\n",
       "      <th>0</th>\n",
       "      <td>0.000202</td>\n",
       "      <td>0.1100</td>\n",
       "      <td>8.0</td>\n",
       "      <td>-1</td>\n",
       "      <td>100.000</td>\n",
       "    </tr>\n",
       "    <tr>\n",
       "      <th>1</th>\n",
       "      <td>0.001070</td>\n",
       "      <td>0.1030</td>\n",
       "      <td>NaN</td>\n",
       "      <td>1</td>\n",
       "      <td>99.984</td>\n",
       "    </tr>\n",
       "    <tr>\n",
       "      <th>2</th>\n",
       "      <td>0.001496</td>\n",
       "      <td>0.1015</td>\n",
       "      <td>NaN</td>\n",
       "      <td>-1</td>\n",
       "      <td>100.029</td>\n",
       "    </tr>\n",
       "    <tr>\n",
       "      <th>3</th>\n",
       "      <td>0.003336</td>\n",
       "      <td>0.0920</td>\n",
       "      <td>NaN</td>\n",
       "      <td>1</td>\n",
       "      <td>99.979</td>\n",
       "    </tr>\n",
       "    <tr>\n",
       "      <th>4</th>\n",
       "      <td>0.003952</td>\n",
       "      <td>0.1106</td>\n",
       "      <td>NaN</td>\n",
       "      <td>1</td>\n",
       "      <td>100.060</td>\n",
       "    </tr>\n",
       "    <tr>\n",
       "      <th>...</th>\n",
       "      <td>...</td>\n",
       "      <td>...</td>\n",
       "      <td>...</td>\n",
       "      <td>...</td>\n",
       "      <td>...</td>\n",
       "    </tr>\n",
       "    <tr>\n",
       "      <th>996</th>\n",
       "      <td>0.981441</td>\n",
       "      <td>0.0834</td>\n",
       "      <td>79.0</td>\n",
       "      <td>1</td>\n",
       "      <td>101.070</td>\n",
       "    </tr>\n",
       "    <tr>\n",
       "      <th>997</th>\n",
       "      <td>0.981875</td>\n",
       "      <td>0.1010</td>\n",
       "      <td>NaN</td>\n",
       "      <td>-1</td>\n",
       "      <td>101.120</td>\n",
       "    </tr>\n",
       "    <tr>\n",
       "      <th>998</th>\n",
       "      <td>0.986784</td>\n",
       "      <td>0.1007</td>\n",
       "      <td>NaN</td>\n",
       "      <td>-1</td>\n",
       "      <td>100.998</td>\n",
       "    </tr>\n",
       "    <tr>\n",
       "      <th>999</th>\n",
       "      <td>0.991232</td>\n",
       "      <td>0.1153</td>\n",
       "      <td>3.0</td>\n",
       "      <td>-1</td>\n",
       "      <td>100.958</td>\n",
       "    </tr>\n",
       "    <tr>\n",
       "      <th>1000</th>\n",
       "      <td>0.992002</td>\n",
       "      <td>0.1045</td>\n",
       "      <td>NaN</td>\n",
       "      <td>1</td>\n",
       "      <td>100.948</td>\n",
       "    </tr>\n",
       "  </tbody>\n",
       "</table>\n",
       "<p>1001 rows × 5 columns</p>\n",
       "</div>"
      ],
      "text/plain": [
       "      transaction date (1=1day=24 hours)  bid-ask spread  \\\n",
       "0                               0.000202          0.1100   \n",
       "1                               0.001070          0.1030   \n",
       "2                               0.001496          0.1015   \n",
       "3                               0.003336          0.0920   \n",
       "4                               0.003952          0.1106   \n",
       "...                                  ...             ...   \n",
       "996                             0.981441          0.0834   \n",
       "997                             0.981875          0.1010   \n",
       "998                             0.986784          0.1007   \n",
       "999                             0.991232          0.1153   \n",
       "1000                            0.992002          0.1045   \n",
       "\n",
       "      volume of the transaction (if known)  Sign of the transaction  \\\n",
       "0                                      8.0                       -1   \n",
       "1                                      NaN                        1   \n",
       "2                                      NaN                       -1   \n",
       "3                                      NaN                        1   \n",
       "4                                      NaN                        1   \n",
       "...                                    ...                      ...   \n",
       "996                                   79.0                        1   \n",
       "997                                    NaN                       -1   \n",
       "998                                    NaN                       -1   \n",
       "999                                    3.0                       -1   \n",
       "1000                                   NaN                        1   \n",
       "\n",
       "      Price (before transaction)  \n",
       "0                        100.000  \n",
       "1                         99.984  \n",
       "2                        100.029  \n",
       "3                         99.979  \n",
       "4                        100.060  \n",
       "...                          ...  \n",
       "996                      101.070  \n",
       "997                      101.120  \n",
       "998                      100.998  \n",
       "999                      100.958  \n",
       "1000                     100.948  \n",
       "\n",
       "[1001 rows x 5 columns]"
      ]
     },
     "execution_count": 60,
     "metadata": {},
     "output_type": "execute_result"
    }
   ],
   "source": [
    "#Load the data \n",
    "file_path = 'Almgren_and_Chriss_Data.xlsx'\n",
    "xls = pd.ExcelFile(file_path)\n",
    "\n",
    "# Load the content of the first sheet\n",
    "Grenchriss = pd.read_excel(xls)\n",
    "Grenchriss"
   ]
  },
  {
   "cell_type": "markdown",
   "id": "228f8af6-fab5-4ec2-b1d8-7b9d1ef1e439",
   "metadata": {
    "jp-MarkdownHeadingCollapsed": true
   },
   "source": [
    "### Parameter Estimation of the Almgren and Chriss Model"
   ]
  },
  {
   "cell_type": "code",
   "execution_count": 62,
   "id": "e68d9c25-535b-4032-af67-ab12b0eccb7e",
   "metadata": {},
   "outputs": [],
   "source": [
    "volume = []\n",
    "price = []\n",
    "sign_Transaction = []\n",
    "returns = []"
   ]
  },
  {
   "cell_type": "code",
   "execution_count": 63,
   "id": "693e4ac1-6819-4a19-958d-31b18543c01d",
   "metadata": {},
   "outputs": [
    {
     "data": {
      "text/plain": [
       "0        8.0\n",
       "6       32.0\n",
       "16       8.0\n",
       "28     141.0\n",
       "51     121.0\n",
       "       ...  \n",
       "988     14.0\n",
       "989    150.0\n",
       "990     17.0\n",
       "996     79.0\n",
       "999      3.0\n",
       "Name: volume of the transaction (if known), Length: 137, dtype: float64"
      ]
     },
     "execution_count": 63,
     "metadata": {},
     "output_type": "execute_result"
    }
   ],
   "source": [
    "volume = Grenchriss['volume of the transaction (if known)'].dropna()\n",
    "volume"
   ]
  },
  {
   "cell_type": "code",
   "execution_count": 64,
   "id": "bb1df8f2-2591-4b97-a649-5300c0a00c70",
   "metadata": {},
   "outputs": [
    {
     "data": {
      "text/plain": [
       "0       100.000\n",
       "1        99.984\n",
       "2       100.029\n",
       "3        99.979\n",
       "4       100.060\n",
       "         ...   \n",
       "996     101.070\n",
       "997     101.120\n",
       "998     100.998\n",
       "999     100.958\n",
       "1000    100.948\n",
       "Name: Price (before transaction), Length: 1001, dtype: float64"
      ]
     },
     "execution_count": 64,
     "metadata": {},
     "output_type": "execute_result"
    }
   ],
   "source": [
    "price = Grenchriss['Price (before transaction)'].dropna()\n",
    "price"
   ]
  },
  {
   "cell_type": "code",
   "execution_count": 65,
   "id": "f2c69425-1756-4863-aaee-f674e72deaae",
   "metadata": {},
   "outputs": [
    {
     "data": {
      "text/plain": [
       "0      -1\n",
       "1       1\n",
       "2      -1\n",
       "3       1\n",
       "4       1\n",
       "       ..\n",
       "996     1\n",
       "997    -1\n",
       "998    -1\n",
       "999    -1\n",
       "1000    1\n",
       "Name: Sign of the transaction, Length: 1001, dtype: int64"
      ]
     },
     "execution_count": 65,
     "metadata": {},
     "output_type": "execute_result"
    }
   ],
   "source": [
    "sign_Transaction = Grenchriss['Sign of the transaction'].dropna()\n",
    "sign_Transaction"
   ]
  },
  {
   "cell_type": "code",
   "execution_count": 66,
   "id": "abffb9d7-ec4f-419f-b7ab-3d04ec15818f",
   "metadata": {},
   "outputs": [
    {
     "data": {
      "text/plain": [
       "1      -0.000160\n",
       "2       0.000450\n",
       "3      -0.000500\n",
       "4       0.000810\n",
       "5       0.000999\n",
       "          ...   \n",
       "996     0.000693\n",
       "997     0.000495\n",
       "998    -0.001206\n",
       "999    -0.000396\n",
       "1000   -0.000099\n",
       "Name: Price (before transaction), Length: 1000, dtype: float64"
      ]
     },
     "execution_count": 66,
     "metadata": {},
     "output_type": "execute_result"
    }
   ],
   "source": [
    "returns = (Grenchriss['Price (before transaction)'] - Grenchriss['Price (before transaction)'].shift(1)) /  Grenchriss['Price (before transaction)'].shift(1)\n",
    "returns.dropna(inplace=True)\n",
    "returns"
   ]
  },
  {
   "cell_type": "code",
   "execution_count": 67,
   "id": "5f6ff54a-4b22-476d-8863-80bc40e5818d",
   "metadata": {},
   "outputs": [],
   "source": [
    "sigma = np.std(returns)*np.sqrt(24)*np.sqrt(252)"
   ]
  },
  {
   "cell_type": "code",
   "execution_count": 68,
   "id": "5b686121-99e2-4f17-8149-a8cdc0625f00",
   "metadata": {},
   "outputs": [
    {
     "data": {
      "text/plain": [
       "0.057397522889744174"
      ]
     },
     "execution_count": 68,
     "metadata": {},
     "output_type": "execute_result"
    }
   ],
   "source": [
    "sigma"
   ]
  },
  {
   "cell_type": "code",
   "execution_count": 69,
   "id": "6b709fb3-96a5-453b-b3dd-19c1d0a0ba64",
   "metadata": {},
   "outputs": [
    {
     "name": "stdout",
     "output_type": "stream",
     "text": [
      "     Price Difference\n",
      "0              -0.016\n",
      "2              -0.050\n",
      "4               0.100\n",
      "6               0.026\n",
      "8              -0.063\n",
      "..                ...\n",
      "990            -0.025\n",
      "992            -0.031\n",
      "994            -0.031\n",
      "996             0.050\n",
      "998            -0.040\n",
      "\n",
      "[500 rows x 1 columns]\n"
     ]
    }
   ],
   "source": [
    "import pandas as pd\n",
    "\n",
    "# Calculation of differences with every second element skipped\n",
    "price_difference = [\n",
    "    price.iloc[i + 1] - price.iloc[i] \n",
    "    for i in range(0, len(price) - 1, 2)\n",
    "]\n",
    "\n",
    "# Retrieve the corresponding indices\n",
    "index_difference = price.index[::2][:len(price_difference)]  \n",
    "\n",
    "# Create a DataFrame with the original indices\n",
    "price_difference_df = pd.DataFrame({\n",
    "    'Price Difference': price_difference\n",
    "}, index=index_difference) \n",
    "\n",
    "print(price_difference_df)"
   ]
  },
  {
   "cell_type": "code",
   "execution_count": 70,
   "id": "63780854-f7c4-4e47-920d-6732a384c4f3",
   "metadata": {},
   "outputs": [],
   "source": [
    "price_difference_transitoire = - price_difference_df"
   ]
  },
  {
   "cell_type": "code",
   "execution_count": 71,
   "id": "426ccb25-ff96-4afe-a044-61ce500a2cb9",
   "metadata": {},
   "outputs": [
    {
     "name": "stdout",
     "output_type": "stream",
     "text": [
      "       Signed Volume\n",
      "Index               \n",
      "0               -8.0\n",
      "6               32.0\n",
      "16              -8.0\n",
      "28            -141.0\n",
      "51            -121.0\n",
      "...              ...\n",
      "988            -14.0\n",
      "989           -150.0\n",
      "990            -17.0\n",
      "996             79.0\n",
      "999             -3.0\n",
      "\n",
      "[137 rows x 1 columns]\n"
     ]
    }
   ],
   "source": [
    "# Multiply the elements of ‘volume’ and ‘sign_Transaction’ while preserving the indices\n",
    "signed_volume = {\n",
    "    idx: volume[idx] * sign_Transaction[idx]\n",
    "    for idx in volume.index  \n",
    "    if idx in sign_Transaction.index \n",
    "}\n",
    "\n",
    "# Convert to DataFrame for a more readable structure\n",
    "signed_volume_df = pd.DataFrame(list(signed_volume.items()), columns=['Index', 'Signed Volume']).set_index('Index')\n",
    "\n",
    "print(signed_volume_df)"
   ]
  },
  {
   "cell_type": "code",
   "execution_count": 72,
   "id": "28cdff4f-7ff6-4e24-b609-395e4e87d316",
   "metadata": {},
   "outputs": [
    {
     "name": "stdout",
     "output_type": "stream",
     "text": [
      "       Signed Volume\n",
      "Index               \n",
      "0               -8.0\n",
      "6               32.0\n",
      "16              -8.0\n",
      "28            -141.0\n",
      "51            -121.0\n",
      "...              ...\n",
      "988            -14.0\n",
      "989           -150.0\n",
      "990            -17.0\n",
      "996             79.0\n",
      "999             -3.0\n",
      "\n",
      "[137 rows x 1 columns]\n"
     ]
    }
   ],
   "source": [
    "# Multiply the elements of ‘volume’ and ‘sign_Transaction’ while preserving the indices\n",
    "signed_volume_a = {\n",
    "    idx: volume[idx] * sign_Transaction[idx]\n",
    "    for idx in volume.index  \n",
    "    if idx in sign_Transaction.index \n",
    "}\n",
    "\n",
    "# Convert to DataFrame for a more readable structure\n",
    "signed_volume_a = pd.DataFrame(list(signed_volume.items()), columns=['Index', 'Signed Volume']).set_index('Index')\n",
    "\n",
    "print(signed_volume_a)"
   ]
  },
  {
   "cell_type": "code",
   "execution_count": 73,
   "id": "0f6aaa8d-567b-467a-b4c9-169a154e8b57",
   "metadata": {},
   "outputs": [
    {
     "name": "stdout",
     "output_type": "stream",
     "text": [
      "       Signed Volume Carre\n",
      "Index                     \n",
      "0                    -64.0\n",
      "6                   1024.0\n",
      "16                   -64.0\n",
      "28                -19881.0\n",
      "51                -14641.0\n",
      "...                    ...\n",
      "988                 -196.0\n",
      "989               -22500.0\n",
      "990                 -289.0\n",
      "996                 6241.0\n",
      "999                   -9.0\n",
      "\n",
      "[137 rows x 1 columns]\n"
     ]
    }
   ],
   "source": [
    "signed_volume_carre = {\n",
    "    idx: volume[idx]*volume[idx] * sign_Transaction[idx]\n",
    "    for idx in volume.index  # Parcourt directement les indices de 'volume'\n",
    "    if idx in sign_Transaction.index  # Vérifie que l'index existe aussi dans 'sign_Transaction'\n",
    "}\n",
    "\n",
    "signed_volume_carre = pd.DataFrame(list(signed_volume_carre.items()), columns=['Index', 'Signed Volume Carre']).set_index('Index')\n",
    "\n",
    "print(signed_volume_carre)"
   ]
  },
  {
   "cell_type": "code",
   "execution_count": 74,
   "id": "b3a669d4-298c-4993-adea-f58780ff45dc",
   "metadata": {},
   "outputs": [
    {
     "name": "stdout",
     "output_type": "stream",
     "text": [
      "     Price Difference\n",
      "0              -0.016\n",
      "6               0.026\n",
      "16             -0.019\n",
      "28             -0.075\n",
      "64             -0.130\n",
      "..                ...\n",
      "976            -0.108\n",
      "982             0.059\n",
      "988            -0.022\n",
      "990            -0.025\n",
      "996             0.050\n",
      "\n",
      "[78 rows x 1 columns]\n"
     ]
    }
   ],
   "source": [
    "# Filter impact_df to retain only the indices present in signed_volume_df\n",
    "filtered_impact_df = price_difference_df[price_difference_df.index.isin(signed_volume_df.index)]\n",
    "signed_volume_df = signed_volume_df[signed_volume_df.index.isin(filtered_impact_df.index)]\n",
    "\n",
    "print(filtered_impact_df)"
   ]
  },
  {
   "cell_type": "code",
   "execution_count": 75,
   "id": "0216c153-2b40-4d5c-bc28-ba8d4222669b",
   "metadata": {},
   "outputs": [],
   "source": [
    "# Extract the ‘Permanent Impact’ column from filtered_impact_df\n",
    "# Convert to NumPy array\n",
    "Price_diff = filtered_impact_df['Price Difference'].values  \n",
    "Produit_signe = signed_volume_df['Signed Volume'].values\n"
   ]
  },
  {
   "cell_type": "code",
   "execution_count": 76,
   "id": "648eef94-9f50-4454-b139-dfbd9786360e",
   "metadata": {},
   "outputs": [],
   "source": [
    "def linear_regression_np(X, y):\n",
    "    # Means of the data\n",
    "    X_mean = np.mean(X)\n",
    "    y_mean = np.mean(y)\n",
    "    \n",
    "    # Calculation of the slope\n",
    "    slope = np.sum((X - X_mean) * (y - y_mean)) / np.sum((X - X_mean) ** 2)\n",
    "    \n",
    "    # Calculation of intercept\n",
    "    intercept = y_mean - slope * X_mean\n",
    "    \n",
    "    return slope, intercept\n"
   ]
  },
  {
   "cell_type": "code",
   "execution_count": 77,
   "id": "1cea5f6e-2f96-4951-abb4-4ca61225e142",
   "metadata": {},
   "outputs": [],
   "source": [
    "slope, intercept = linear_regression_np(Produit_signe,Price_diff)"
   ]
  },
  {
   "cell_type": "code",
   "execution_count": 78,
   "id": "feab9612-3f10-4857-8f55-1564d48b9547",
   "metadata": {},
   "outputs": [
    {
     "data": {
      "image/png": "[encoded data removed]",
      "text/plain": [
       "<Figure size 640x480 with 1 Axes>"
      ]
     },
     "metadata": {},
     "output_type": "display_data"
    }
   ],
   "source": [
    "import matplotlib.pyplot as plt\n",
    "\n",
    "# Predictions based on regression\n",
    "y_pred = slope * Produit_signe + intercept\n",
    "\n",
    "# Plot the actual data and the regression with inverted axes\n",
    "plt.scatter(Price_diff, Produit_signe, color='blue', label='Real data')\n",
    "plt.plot(y_pred, Produit_signe, color='red', label='Linear regression')\n",
    "plt.xlabel(\"Price difference (Permanent Impact)\")\n",
    "plt.ylabel(\"Signed product\")\n",
    "plt.title(\"Linear regression\")\n",
    "plt.legend()\n",
    "plt.show()"
   ]
  },
  {
   "cell_type": "code",
   "execution_count": 79,
   "id": "d7459c77-c535-474f-a9b8-698b961ea157",
   "metadata": {},
   "outputs": [
    {
     "name": "stdout",
     "output_type": "stream",
     "text": [
      "Estimation of gamma (slope): 0.00048597289625401516\n",
      "MSE (Mean Squared Error): 0.0005047353157523114\n",
      "R² (coefficient of determination): 0.9191664690618317\n"
     ]
    }
   ],
   "source": [
    "# Calculate the MSE (Mean Squared Error)\n",
    "mse_gamma = np.mean((Price_diff - y_pred) ** 2)\n",
    "\n",
    "# Calculate the R² (coefficient of determination)\n",
    "r2_gamma = 1 - np.sum((Price_diff - y_pred) ** 2) / np.sum((Price_diff - np.mean(Price_diff)) ** 2)\n",
    "\n",
    "# Display the results\n",
    "print(f\"Estimation of gamma (slope): {slope}\")\n",
    "print(f\"MSE (Mean Squared Error): {mse_gamma}\")\n",
    "print(f\"R² (coefficient of determination): {r2_gamma}\")"
   ]
  },
  {
   "cell_type": "code",
   "execution_count": 80,
   "id": "44310a7e-7f43-4565-a5fc-85cab78b9ec0",
   "metadata": {},
   "outputs": [
    {
     "name": "stdout",
     "output_type": "stream",
     "text": [
      "     Price Difference\n",
      "0               0.016\n",
      "6              -0.026\n",
      "16              0.019\n",
      "28              0.075\n",
      "64              0.130\n",
      "..                ...\n",
      "976             0.108\n",
      "982            -0.059\n",
      "988             0.022\n",
      "990             0.025\n",
      "996            -0.050\n",
      "\n",
      "[78 rows x 1 columns]\n"
     ]
    }
   ],
   "source": [
    "# Filter impact_df to keep only the indices present in signed_volume_df\n",
    "filtered_impact_tr = price_difference_transitoire[price_difference_transitoire.index.isin(signed_volume_carre.index)]\n",
    "\n",
    "# Filter signed_volume_carre to match the indices of filtered_impact_tr\n",
    "signed_volume_carre = signed_volume_carre[signed_volume_carre.index.isin(filtered_impact_tr.index)]\n",
    "\n",
    "# Display the filtered DataFrame\n",
    "print(filtered_impact_tr)\n"
   ]
  },
  {
   "cell_type": "code",
   "execution_count": 81,
   "id": "c222f358-02f7-4559-b57c-583b81c54cad",
   "metadata": {},
   "outputs": [],
   "source": [
    "# Convert the DataFrame to NumPy array\n",
    "Price_diff_trans = filtered_impact_tr['Price Difference'].values  \n",
    "Produit_signe_carre = signed_volume_carre['Signed Volume Carre'].values"
   ]
  },
  {
   "cell_type": "code",
   "execution_count": 82,
   "id": "6604a066-715b-49e2-bc8c-9d8e6b808d41",
   "metadata": {},
   "outputs": [],
   "source": [
    "slope_d, intercept_d = linear_regression_np(Produit_signe_carre,Price_diff_trans)"
   ]
  },
  {
   "cell_type": "code",
   "execution_count": 83,
   "id": "3635da6a-91ce-4e18-b9ab-c8fd046586b6",
   "metadata": {},
   "outputs": [
    {
     "data": {
      "image/png": "[encoded data removed]",
      "text/plain": [
       "<Figure size 640x480 with 1 Axes>"
      ]
     },
     "metadata": {},
     "output_type": "display_data"
    }
   ],
   "source": [
    "import matplotlib.pyplot as plt\n",
    "\n",
    "# Predictions Based on Regression\n",
    "y_pred_d = slope_d * Produit_signe_carre + intercept_d\n",
    "\n",
    "# Plot real data and regression \n",
    "plt.scatter(Produit_signe_carre, Price_diff_trans, color='blue', label='Real data')\n",
    "plt.plot(Produit_signe_carre, y_pred_d, color='red', label='Linear regression')\n",
    "plt.xlabel(\"Signed product squared\")\n",
    "plt.ylabel(\"Price difference (Transitory Impact)\")\n",
    "plt.title(\"Linear Regression\")\n",
    "plt.legend()\n",
    "plt.show()"
   ]
  },
  {
   "cell_type": "code",
   "execution_count": 84,
   "id": "d0fa223a-9524-4b02-84ab-89d7fababd50",
   "metadata": {},
   "outputs": [
    {
     "name": "stdout",
     "output_type": "stream",
     "text": [
      "Estimation de etha (pente) : -8.641432875958637e-07\n",
      "MSE (Mean Squared Error) : 0.0031490071046982983\n",
      "R² (coefficient de détermination) : -2.764239093526162\n"
     ]
    }
   ],
   "source": [
    "# Calculation of evaluation metrics\n",
    "mse_gamma = np.mean((Price_diff_trans - y_pred_d) ** 2)\n",
    "r2_gamma = 1 - np.sum((Price_diff_trans - y_pred) ** 2) / np.sum((Price_diff_trans - np.mean(Price_diff_trans)) ** 2)\n",
    "\n",
    "print(f\"Estimation de etha (pente) : {slope_d}\")\n",
    "print(f\"MSE (Mean Squared Error) : {mse_gamma}\")\n",
    "print(f\"R² (coefficient de détermination) : {r2_gamma}\")"
   ]
  },
  {
   "cell_type": "code",
   "execution_count": 85,
   "id": "0c61472b-4606-4e0d-9170-44ad8f61399a",
   "metadata": {},
   "outputs": [],
   "source": [
    "import numpy as np\n",
    "\n",
    "def linear_regression_multivariate(X, y):\n",
    "    # Variable averages\n",
    "    X_mean = np.mean(X, axis=0)\n",
    "    y_mean = np.mean(y)\n",
    "\n",
    "    # Covariance matrix of X\n",
    "    X_cov = np.dot(X.T, X) - np.sum(X, axis=0) * X_mean\n",
    "\n",
    "    # Inverse of the covariance matrix\n",
    "    X_cov_inv = np.linalg.inv(X_cov)\n",
    "\n",
    "    # Calculation of cross products between X and y\n",
    "    X_X_mean_y_mean = np.dot(X.T, y) - np.sum(X, axis=0) * y_mean\n",
    "\n",
    "    # Calculation of coefficients (slopes)\n",
    "    coefficients = np.dot(X_cov_inv, X_X_mean_y_mean)\n",
    "\n",
    "    # Calculation of intercept\n",
    "    intercept = y_mean - np.dot(coefficients.T, X_mean)\n",
    "\n",
    "    return coefficients, intercept"
   ]
  },
  {
   "cell_type": "code",
   "execution_count": 86,
   "id": "260f7a0c-428a-4848-a86a-f98a22db07e2",
   "metadata": {},
   "outputs": [],
   "source": [
    "Xtharray = np.column_stack((Produit_signe, Produit_signe_carre))\n"
   ]
  },
  {
   "cell_type": "code",
   "execution_count": 87,
   "id": "729e9b9a-4bee-4c7f-b1b9-972edf46f448",
   "metadata": {},
   "outputs": [],
   "source": [
    "coefficients, intercept_e = linear_regression_multivariate(Xtharray,Price_diff_trans)"
   ]
  },
  {
   "cell_type": "code",
   "execution_count": 88,
   "id": "f5f9d786-72ac-4b54-89d9-990418cd7808",
   "metadata": {},
   "outputs": [
    {
     "data": {
      "image/png": "[encoded data removed]",
      "text/plain": [
       "<Figure size 640x480 with 1 Axes>"
      ]
     },
     "metadata": {},
     "output_type": "display_data"
    }
   ],
   "source": [
    "# Calculation of predictions\n",
    "y_pred_tha = np.dot(Xtharray, coefficients) + intercept_e\n",
    "\n",
    "# Sort the values of Product_sign_carre and y_pred_multivariate\n",
    "sorted_indices = np.argsort(Produit_signe_carre)\n",
    "Produit_signe_carre_sorted = Produit_signe_carre[sorted_indices]\n",
    "y_pred_sorted = y_pred_tha[sorted_indices]\n",
    "\n",
    "# Plot the actual data\n",
    "plt.scatter(Produit_signe_carre, Price_diff_trans, color='blue', label='Real Data')\n",
    "\n",
    "# Plot the linear regression curve with sorted data\n",
    "plt.plot(Produit_signe_carre_sorted, y_pred_sorted, color='red', linestyle='--', label='Linear regression')\n",
    "\n",
    "# Add labels and a title\n",
    "plt.xlabel('Signed product squared')\n",
    "plt.ylabel('Price difference (Transitory Impact)')\n",
    "plt.title('Multivariate regression: real data vs. predictions')\n",
    "plt.legend()\n",
    "plt.show()\n",
    "\n"
   ]
  },
  {
   "cell_type": "code",
   "execution_count": 89,
   "id": "a36ae28c-d254-421c-a1d7-c5ed07bdd6ad",
   "metadata": {},
   "outputs": [],
   "source": [
    "# Calculation of evaluation metrics\n",
    "# Mean square error (MSE)\n",
    "mse_tha = np.mean((Price_diff_trans - y_pred_tha) ** 2)  \n",
    "# R²\n",
    "r2_tha = 1 - sum((Price_diff_trans - y_pred_tha) ** 2) / sum((Price_diff_trans - np.mean(Price_diff_trans)) ** 2)  "
   ]
  },
  {
   "cell_type": "code",
   "execution_count": 90,
   "id": "46de0446-0ac3-4772-ac32-599b4c493b25",
   "metadata": {},
   "outputs": [
    {
     "data": {
      "text/plain": [
       "0.9496475740749254"
      ]
     },
     "execution_count": 90,
     "metadata": {},
     "output_type": "execute_result"
    }
   ],
   "source": [
    "r2_tha"
   ]
  },
  {
   "cell_type": "code",
   "execution_count": 91,
   "id": "c9c053eb-6f94-42c4-8d0b-7945015e1921",
   "metadata": {},
   "outputs": [
    {
     "data": {
      "text/plain": [
       "0.00031440724292531235"
      ]
     },
     "execution_count": 91,
     "metadata": {},
     "output_type": "execute_result"
    }
   ],
   "source": [
    "mse_tha"
   ]
  },
  {
   "cell_type": "markdown",
   "id": "75e5431c-56d9-4219-afc3-7ea740ca0859",
   "metadata": {
    "jp-MarkdownHeadingCollapsed": true
   },
   "source": [
    "### Liquidation Strategy"
   ]
  },
  {
   "cell_type": "code",
   "execution_count": 93,
   "id": "45c5ea42-b641-4c0e-a6dd-080c2520420e",
   "metadata": {},
   "outputs": [
    {
     "data": {
      "text/plain": [
       "1.0911524540649665e-08"
      ]
     },
     "execution_count": 93,
     "metadata": {},
     "output_type": "execute_result"
    }
   ],
   "source": [
    "\n",
    "tau = 1/24\n",
    "etha = coefficients[1] * tau\n",
    "etha"
   ]
  },
  {
   "cell_type": "code",
   "execution_count": 94,
   "id": "ba7e1b37-d829-4a55-85f5-0374b772a2b4",
   "metadata": {},
   "outputs": [
    {
     "name": "stdout",
     "output_type": "stream",
     "text": [
      "K pour λ=1.0e-05: 1.7255682401912498\n",
      "K pour λ=1.0e-04: 5.456725897052854\n",
      "K pour λ=1.0e-03: 17.255682401912498\n"
     ]
    },
    {
     "data": {
      "image/png": "[encoded data removed]",
      "text/plain": [
       "<Figure size 1000x600 with 1 Axes>"
      ]
     },
     "metadata": {},
     "output_type": "display_data"
    }
   ],
   "source": [
    "import numpy as np\n",
    "import matplotlib.pyplot as plt\n",
    "\n",
    "# Parameters\n",
    "# Initial volume to be liquidated\n",
    "X = 1000000  \n",
    "# Liquidation horizon in days\n",
    "T = [(1 / 24) * i for i in range(1, 25)]  \n",
    "# Different lambda values\n",
    "Lambda_values = [1e-5, 1e-4, 1e-3]  \n",
    "sigma = 0.057  \n",
    "tha = 1.0911524540649665e-08\n",
    "  \n",
    "\n",
    "# Plot optimal liquidation paths\n",
    "plt.figure(figsize=(10, 6))\n",
    "\n",
    "for Lambda in Lambda_values:\n",
    "    # Calculate K for each Lambda\n",
    "    K = np.sqrt(Lambda * (sigma**2) / tha)\n",
    "    print(f\"K pour λ={Lambda:.1e}: {K}\")  \n",
    "    \n",
    "    # Calculate strategic trajectories\n",
    "    strat = [np.sinh(K * (1 - t)) * X / np.sinh(K) for t in T]\n",
    "    \n",
    "    # Plot the trajectory\n",
    "    plt.plot(T, strat, label=f'λ = {Lambda:.1e}')\n",
    "\n",
    "# Title, axes and legend\n",
    "plt.title(\"Optimal Liquidation Trajectories for Different Values of λ\")\n",
    "plt.xlabel(\"Time (days)\")\n",
    "plt.ylabel(\"Number of Shares\")\n",
    "plt.legend()\n",
    "plt.grid(True)\n",
    "plt.show()\n"
   ]
  },
  {
   "cell_type": "markdown",
   "id": "f8561cb1-4703-436f-84b4-9e4068eb3300",
   "metadata": {},
   "source": [
    "## Analysis of FX Rate Dynamics Using Haar Wavelets and Hurst Exponent"
   ]
  },
  {
   "cell_type": "code",
   "execution_count": 96,
   "id": "b255436a-5d17-4a6d-8227-342c42001a9f",
   "metadata": {},
   "outputs": [
    {
     "data": {
      "text/html": [
       "<div>\n",
       "<style scoped>\n",
       "    .dataframe tbody tr th:only-of-type {\n",
       "        vertical-align: middle;\n",
       "    }\n",
       "\n",
       "    .dataframe tbody tr th {\n",
       "        vertical-align: top;\n",
       "    }\n",
       "\n",
       "    .dataframe thead th {\n",
       "        text-align: right;\n",
       "    }\n",
       "</style>\n",
       "<table border=\"1\" class=\"dataframe\">\n",
       "  <thead>\n",
       "    <tr style=\"text-align: right;\">\n",
       "      <th></th>\n",
       "      <th>Date</th>\n",
       "      <th>HIGH_GBPEUR</th>\n",
       "      <th>LOW_GBPEUR</th>\n",
       "      <th>Date.1</th>\n",
       "      <th>HIGH_SEKEUR</th>\n",
       "      <th>LOW_SEKEUR</th>\n",
       "      <th>Date.2</th>\n",
       "      <th>HIGH_CADEUR</th>\n",
       "      <th>LOW_CADEUR</th>\n",
       "    </tr>\n",
       "  </thead>\n",
       "  <tbody>\n",
       "    <tr>\n",
       "      <th>0</th>\n",
       "      <td>2016-03-07 08:59:59.990</td>\n",
       "      <td>1.2932</td>\n",
       "      <td>1.2917</td>\n",
       "      <td>2016-03-07 08:59:59.990</td>\n",
       "      <td>0.10725</td>\n",
       "      <td>0.10720</td>\n",
       "      <td>2016-03-07 08:59:59.990</td>\n",
       "      <td>0.6842</td>\n",
       "      <td>0.6829</td>\n",
       "    </tr>\n",
       "    <tr>\n",
       "      <th>1</th>\n",
       "      <td>2016-03-07 09:15:00.000</td>\n",
       "      <td>1.2940</td>\n",
       "      <td>1.2930</td>\n",
       "      <td>2016-03-07 09:15:00.000</td>\n",
       "      <td>0.10728</td>\n",
       "      <td>0.10717</td>\n",
       "      <td>2016-03-07 09:15:00.000</td>\n",
       "      <td>0.6849</td>\n",
       "      <td>0.6841</td>\n",
       "    </tr>\n",
       "    <tr>\n",
       "      <th>2</th>\n",
       "      <td>2016-03-07 09:30:00.000</td>\n",
       "      <td>1.2943</td>\n",
       "      <td>1.2922</td>\n",
       "      <td>2016-03-07 09:30:00.000</td>\n",
       "      <td>0.10726</td>\n",
       "      <td>0.10719</td>\n",
       "      <td>2016-03-07 09:30:00.000</td>\n",
       "      <td>0.6844</td>\n",
       "      <td>0.6837</td>\n",
       "    </tr>\n",
       "    <tr>\n",
       "      <th>3</th>\n",
       "      <td>2016-03-07 09:45:00.000</td>\n",
       "      <td>1.2930</td>\n",
       "      <td>1.2913</td>\n",
       "      <td>2016-03-07 09:45:00.000</td>\n",
       "      <td>0.10728</td>\n",
       "      <td>0.10721</td>\n",
       "      <td>2016-03-07 09:45:00.000</td>\n",
       "      <td>0.6844</td>\n",
       "      <td>0.6839</td>\n",
       "    </tr>\n",
       "    <tr>\n",
       "      <th>4</th>\n",
       "      <td>2016-03-07 10:00:00.000</td>\n",
       "      <td>1.2931</td>\n",
       "      <td>1.2921</td>\n",
       "      <td>2016-03-07 10:00:00.000</td>\n",
       "      <td>0.10725</td>\n",
       "      <td>0.10719</td>\n",
       "      <td>2016-03-07 10:00:00.000</td>\n",
       "      <td>0.6840</td>\n",
       "      <td>0.6835</td>\n",
       "    </tr>\n",
       "    <tr>\n",
       "      <th>...</th>\n",
       "      <td>...</td>\n",
       "      <td>...</td>\n",
       "      <td>...</td>\n",
       "      <td>...</td>\n",
       "      <td>...</td>\n",
       "      <td>...</td>\n",
       "      <td>...</td>\n",
       "      <td>...</td>\n",
       "      <td>...</td>\n",
       "    </tr>\n",
       "    <tr>\n",
       "      <th>12924</th>\n",
       "      <td>2016-09-07 17:00:00.000</td>\n",
       "      <td>1.1879</td>\n",
       "      <td>1.1867</td>\n",
       "      <td>2016-09-07 17:00:00.000</td>\n",
       "      <td>0.10536</td>\n",
       "      <td>0.10531</td>\n",
       "      <td>2016-09-07 17:00:00.000</td>\n",
       "      <td>0.6897</td>\n",
       "      <td>0.6893</td>\n",
       "    </tr>\n",
       "    <tr>\n",
       "      <th>12925</th>\n",
       "      <td>2016-09-07 17:15:00.000</td>\n",
       "      <td>1.1883</td>\n",
       "      <td>1.1874</td>\n",
       "      <td>2016-09-07 17:15:00.000</td>\n",
       "      <td>0.10537</td>\n",
       "      <td>0.10534</td>\n",
       "      <td>2016-09-07 17:15:00.000</td>\n",
       "      <td>0.6902</td>\n",
       "      <td>0.6895</td>\n",
       "    </tr>\n",
       "    <tr>\n",
       "      <th>12926</th>\n",
       "      <td>2016-09-07 17:30:00.000</td>\n",
       "      <td>1.1880</td>\n",
       "      <td>1.1874</td>\n",
       "      <td>2016-09-07 17:30:00.000</td>\n",
       "      <td>0.10538</td>\n",
       "      <td>0.10536</td>\n",
       "      <td>2016-09-07 17:30:00.000</td>\n",
       "      <td>0.6902</td>\n",
       "      <td>0.6898</td>\n",
       "    </tr>\n",
       "    <tr>\n",
       "      <th>12927</th>\n",
       "      <td>2016-09-07 17:45:00.000</td>\n",
       "      <td>1.1874</td>\n",
       "      <td>1.1866</td>\n",
       "      <td>2016-09-07 17:45:00.000</td>\n",
       "      <td>0.10537</td>\n",
       "      <td>0.10536</td>\n",
       "      <td>2016-09-07 17:45:00.000</td>\n",
       "      <td>0.6902</td>\n",
       "      <td>0.6901</td>\n",
       "    </tr>\n",
       "    <tr>\n",
       "      <th>12928</th>\n",
       "      <td>2016-09-07 18:00:00.000</td>\n",
       "      <td>1.1870</td>\n",
       "      <td>1.1869</td>\n",
       "      <td>2016-09-07 18:00:00.000</td>\n",
       "      <td>0.10537</td>\n",
       "      <td>0.10537</td>\n",
       "      <td>2016-09-07 18:00:00.000</td>\n",
       "      <td>0.6901</td>\n",
       "      <td>0.6901</td>\n",
       "    </tr>\n",
       "  </tbody>\n",
       "</table>\n",
       "<p>12929 rows × 9 columns</p>\n",
       "</div>"
      ],
      "text/plain": [
       "                         Date  HIGH_GBPEUR   LOW_GBPEUR   \\\n",
       "0     2016-03-07 08:59:59.990        1.2932       1.2917   \n",
       "1     2016-03-07 09:15:00.000        1.2940       1.2930   \n",
       "2     2016-03-07 09:30:00.000        1.2943       1.2922   \n",
       "3     2016-03-07 09:45:00.000        1.2930       1.2913   \n",
       "4     2016-03-07 10:00:00.000        1.2931       1.2921   \n",
       "...                       ...           ...          ...   \n",
       "12924 2016-09-07 17:00:00.000        1.1879       1.1867   \n",
       "12925 2016-09-07 17:15:00.000        1.1883       1.1874   \n",
       "12926 2016-09-07 17:30:00.000        1.1880       1.1874   \n",
       "12927 2016-09-07 17:45:00.000        1.1874       1.1866   \n",
       "12928 2016-09-07 18:00:00.000        1.1870       1.1869   \n",
       "\n",
       "                       Date.1  HIGH_SEKEUR  LOW_SEKEUR  \\\n",
       "0     2016-03-07 08:59:59.990      0.10725     0.10720   \n",
       "1     2016-03-07 09:15:00.000      0.10728     0.10717   \n",
       "2     2016-03-07 09:30:00.000      0.10726     0.10719   \n",
       "3     2016-03-07 09:45:00.000      0.10728     0.10721   \n",
       "4     2016-03-07 10:00:00.000      0.10725     0.10719   \n",
       "...                       ...          ...         ...   \n",
       "12924 2016-09-07 17:00:00.000      0.10536     0.10531   \n",
       "12925 2016-09-07 17:15:00.000      0.10537     0.10534   \n",
       "12926 2016-09-07 17:30:00.000      0.10538     0.10536   \n",
       "12927 2016-09-07 17:45:00.000      0.10537     0.10536   \n",
       "12928 2016-09-07 18:00:00.000      0.10537     0.10537   \n",
       "\n",
       "                       Date.2  HIGH_CADEUR  LOW_CADEUR  \n",
       "0     2016-03-07 08:59:59.990       0.6842      0.6829  \n",
       "1     2016-03-07 09:15:00.000       0.6849      0.6841  \n",
       "2     2016-03-07 09:30:00.000       0.6844      0.6837  \n",
       "3     2016-03-07 09:45:00.000       0.6844      0.6839  \n",
       "4     2016-03-07 10:00:00.000       0.6840      0.6835  \n",
       "...                       ...          ...         ...  \n",
       "12924 2016-09-07 17:00:00.000       0.6897      0.6893  \n",
       "12925 2016-09-07 17:15:00.000       0.6902      0.6895  \n",
       "12926 2016-09-07 17:30:00.000       0.6902      0.6898  \n",
       "12927 2016-09-07 17:45:00.000       0.6902      0.6901  \n",
       "12928 2016-09-07 18:00:00.000       0.6901      0.6901  \n",
       "\n",
       "[12929 rows x 9 columns]"
      ]
     },
     "execution_count": 96,
     "metadata": {},
     "output_type": "execute_result"
    }
   ],
   "source": [
    "# Load the data \n",
    "file_path = 'FX_rates.xlsx'\n",
    "xls = pd.ExcelFile(file_path)\n",
    "\n",
    "# Load the content \n",
    "Wavelets = pd.read_excel(xls)\n",
    "Wavelets"
   ]
  },
  {
   "cell_type": "markdown",
   "id": "c264f75f-55f5-4247-8ab7-d3f51807bf2d",
   "metadata": {
    "jp-MarkdownHeadingCollapsed": true
   },
   "source": [
    "### Multiresolution Correlation between the pairs of FX rates"
   ]
  },
  {
   "cell_type": "code",
   "execution_count": 98,
   "id": "edb4653d-822c-4bca-a18f-333549dcbdf4",
   "metadata": {},
   "outputs": [],
   "source": [
    "import pandas as pd\n",
    "\n",
    "# Clean up column names to avoid errors caused by extra spaces\n",
    "Wavelets.columns = Wavelets.columns.str.strip()\n",
    "\n",
    "# Initialise empty DataFrames\n",
    "GBPEUR = pd.DataFrame()\n",
    "SEKEUR = pd.DataFrame()\n",
    "CADEUR = pd.DataFrame()\n",
    "\n",
    "# Delete rows with missing values\n",
    "GBPEUR['Date'] = Wavelets['Date']\n",
    "GBPEUR['HIGH_GBPEUR'] = Wavelets['HIGH_GBPEUR']\n",
    "GBPEUR['LOW_GBPEUR'] = Wavelets['LOW_GBPEUR']\n",
    "GBPEUR.dropna(subset=['Date', 'HIGH_GBPEUR', 'LOW_GBPEUR'], inplace=True)\n",
    "\n",
    "SEKEUR['Date'] = Wavelets['Date']\n",
    "SEKEUR['HIGH_SEKEUR'] = Wavelets['HIGH_SEKEUR']\n",
    "SEKEUR['LOW_SEKEUR'] = Wavelets['LOW_SEKEUR']\n",
    "SEKEUR.dropna(subset=['Date', 'HIGH_SEKEUR', 'LOW_SEKEUR'], inplace=True)\n",
    "\n",
    "CADEUR['Date'] = Wavelets['Date']\n",
    "CADEUR['HIGH_CADEUR'] = Wavelets['HIGH_CADEUR']\n",
    "CADEUR['LOW_CADEUR'] = Wavelets['LOW_CADEUR']\n",
    "CADEUR.dropna(subset=['Date', 'HIGH_CADEUR', 'LOW_CADEUR'], inplace=True)\n",
    "\n"
   ]
  },
  {
   "cell_type": "code",
   "execution_count": 99,
   "id": "26d3fd3e-85ea-4a26-9dfb-c45b1ddf5737",
   "metadata": {},
   "outputs": [
    {
     "data": {
      "text/html": [
       "<div>\n",
       "<style scoped>\n",
       "    .dataframe tbody tr th:only-of-type {\n",
       "        vertical-align: middle;\n",
       "    }\n",
       "\n",
       "    .dataframe tbody tr th {\n",
       "        vertical-align: top;\n",
       "    }\n",
       "\n",
       "    .dataframe thead th {\n",
       "        text-align: right;\n",
       "    }\n",
       "</style>\n",
       "<table border=\"1\" class=\"dataframe\">\n",
       "  <thead>\n",
       "    <tr style=\"text-align: right;\">\n",
       "      <th></th>\n",
       "      <th>Date</th>\n",
       "      <th>HIGH_GBPEUR</th>\n",
       "      <th>LOW_GBPEUR</th>\n",
       "    </tr>\n",
       "  </thead>\n",
       "  <tbody>\n",
       "    <tr>\n",
       "      <th>0</th>\n",
       "      <td>2016-03-07 08:59:59.990</td>\n",
       "      <td>1.2932</td>\n",
       "      <td>1.2917</td>\n",
       "    </tr>\n",
       "    <tr>\n",
       "      <th>1</th>\n",
       "      <td>2016-03-07 09:15:00.000</td>\n",
       "      <td>1.2940</td>\n",
       "      <td>1.2930</td>\n",
       "    </tr>\n",
       "    <tr>\n",
       "      <th>2</th>\n",
       "      <td>2016-03-07 09:30:00.000</td>\n",
       "      <td>1.2943</td>\n",
       "      <td>1.2922</td>\n",
       "    </tr>\n",
       "    <tr>\n",
       "      <th>3</th>\n",
       "      <td>2016-03-07 09:45:00.000</td>\n",
       "      <td>1.2930</td>\n",
       "      <td>1.2913</td>\n",
       "    </tr>\n",
       "    <tr>\n",
       "      <th>4</th>\n",
       "      <td>2016-03-07 10:00:00.000</td>\n",
       "      <td>1.2931</td>\n",
       "      <td>1.2921</td>\n",
       "    </tr>\n",
       "    <tr>\n",
       "      <th>...</th>\n",
       "      <td>...</td>\n",
       "      <td>...</td>\n",
       "      <td>...</td>\n",
       "    </tr>\n",
       "    <tr>\n",
       "      <th>12924</th>\n",
       "      <td>2016-09-07 17:00:00.000</td>\n",
       "      <td>1.1879</td>\n",
       "      <td>1.1867</td>\n",
       "    </tr>\n",
       "    <tr>\n",
       "      <th>12925</th>\n",
       "      <td>2016-09-07 17:15:00.000</td>\n",
       "      <td>1.1883</td>\n",
       "      <td>1.1874</td>\n",
       "    </tr>\n",
       "    <tr>\n",
       "      <th>12926</th>\n",
       "      <td>2016-09-07 17:30:00.000</td>\n",
       "      <td>1.1880</td>\n",
       "      <td>1.1874</td>\n",
       "    </tr>\n",
       "    <tr>\n",
       "      <th>12927</th>\n",
       "      <td>2016-09-07 17:45:00.000</td>\n",
       "      <td>1.1874</td>\n",
       "      <td>1.1866</td>\n",
       "    </tr>\n",
       "    <tr>\n",
       "      <th>12928</th>\n",
       "      <td>2016-09-07 18:00:00.000</td>\n",
       "      <td>1.1870</td>\n",
       "      <td>1.1869</td>\n",
       "    </tr>\n",
       "  </tbody>\n",
       "</table>\n",
       "<p>12929 rows × 3 columns</p>\n",
       "</div>"
      ],
      "text/plain": [
       "                         Date  HIGH_GBPEUR  LOW_GBPEUR\n",
       "0     2016-03-07 08:59:59.990       1.2932      1.2917\n",
       "1     2016-03-07 09:15:00.000       1.2940      1.2930\n",
       "2     2016-03-07 09:30:00.000       1.2943      1.2922\n",
       "3     2016-03-07 09:45:00.000       1.2930      1.2913\n",
       "4     2016-03-07 10:00:00.000       1.2931      1.2921\n",
       "...                       ...          ...         ...\n",
       "12924 2016-09-07 17:00:00.000       1.1879      1.1867\n",
       "12925 2016-09-07 17:15:00.000       1.1883      1.1874\n",
       "12926 2016-09-07 17:30:00.000       1.1880      1.1874\n",
       "12927 2016-09-07 17:45:00.000       1.1874      1.1866\n",
       "12928 2016-09-07 18:00:00.000       1.1870      1.1869\n",
       "\n",
       "[12929 rows x 3 columns]"
      ]
     },
     "execution_count": 99,
     "metadata": {},
     "output_type": "execute_result"
    }
   ],
   "source": [
    "GBPEUR"
   ]
  },
  {
   "cell_type": "code",
   "execution_count": 100,
   "id": "46d73a06-176a-41fe-bdcc-04a653f2362b",
   "metadata": {},
   "outputs": [
    {
     "data": {
      "text/html": [
       "<div>\n",
       "<style scoped>\n",
       "    .dataframe tbody tr th:only-of-type {\n",
       "        vertical-align: middle;\n",
       "    }\n",
       "\n",
       "    .dataframe tbody tr th {\n",
       "        vertical-align: top;\n",
       "    }\n",
       "\n",
       "    .dataframe thead th {\n",
       "        text-align: right;\n",
       "    }\n",
       "</style>\n",
       "<table border=\"1\" class=\"dataframe\">\n",
       "  <thead>\n",
       "    <tr style=\"text-align: right;\">\n",
       "      <th></th>\n",
       "      <th>Date</th>\n",
       "      <th>HIGH_SEKEUR</th>\n",
       "      <th>LOW_SEKEUR</th>\n",
       "    </tr>\n",
       "  </thead>\n",
       "  <tbody>\n",
       "    <tr>\n",
       "      <th>0</th>\n",
       "      <td>2016-03-07 08:59:59.990</td>\n",
       "      <td>0.10725</td>\n",
       "      <td>0.10720</td>\n",
       "    </tr>\n",
       "    <tr>\n",
       "      <th>1</th>\n",
       "      <td>2016-03-07 09:15:00.000</td>\n",
       "      <td>0.10728</td>\n",
       "      <td>0.10717</td>\n",
       "    </tr>\n",
       "    <tr>\n",
       "      <th>2</th>\n",
       "      <td>2016-03-07 09:30:00.000</td>\n",
       "      <td>0.10726</td>\n",
       "      <td>0.10719</td>\n",
       "    </tr>\n",
       "    <tr>\n",
       "      <th>3</th>\n",
       "      <td>2016-03-07 09:45:00.000</td>\n",
       "      <td>0.10728</td>\n",
       "      <td>0.10721</td>\n",
       "    </tr>\n",
       "    <tr>\n",
       "      <th>4</th>\n",
       "      <td>2016-03-07 10:00:00.000</td>\n",
       "      <td>0.10725</td>\n",
       "      <td>0.10719</td>\n",
       "    </tr>\n",
       "    <tr>\n",
       "      <th>...</th>\n",
       "      <td>...</td>\n",
       "      <td>...</td>\n",
       "      <td>...</td>\n",
       "    </tr>\n",
       "    <tr>\n",
       "      <th>12924</th>\n",
       "      <td>2016-09-07 17:00:00.000</td>\n",
       "      <td>0.10536</td>\n",
       "      <td>0.10531</td>\n",
       "    </tr>\n",
       "    <tr>\n",
       "      <th>12925</th>\n",
       "      <td>2016-09-07 17:15:00.000</td>\n",
       "      <td>0.10537</td>\n",
       "      <td>0.10534</td>\n",
       "    </tr>\n",
       "    <tr>\n",
       "      <th>12926</th>\n",
       "      <td>2016-09-07 17:30:00.000</td>\n",
       "      <td>0.10538</td>\n",
       "      <td>0.10536</td>\n",
       "    </tr>\n",
       "    <tr>\n",
       "      <th>12927</th>\n",
       "      <td>2016-09-07 17:45:00.000</td>\n",
       "      <td>0.10537</td>\n",
       "      <td>0.10536</td>\n",
       "    </tr>\n",
       "    <tr>\n",
       "      <th>12928</th>\n",
       "      <td>2016-09-07 18:00:00.000</td>\n",
       "      <td>0.10537</td>\n",
       "      <td>0.10537</td>\n",
       "    </tr>\n",
       "  </tbody>\n",
       "</table>\n",
       "<p>12929 rows × 3 columns</p>\n",
       "</div>"
      ],
      "text/plain": [
       "                         Date  HIGH_SEKEUR  LOW_SEKEUR\n",
       "0     2016-03-07 08:59:59.990      0.10725     0.10720\n",
       "1     2016-03-07 09:15:00.000      0.10728     0.10717\n",
       "2     2016-03-07 09:30:00.000      0.10726     0.10719\n",
       "3     2016-03-07 09:45:00.000      0.10728     0.10721\n",
       "4     2016-03-07 10:00:00.000      0.10725     0.10719\n",
       "...                       ...          ...         ...\n",
       "12924 2016-09-07 17:00:00.000      0.10536     0.10531\n",
       "12925 2016-09-07 17:15:00.000      0.10537     0.10534\n",
       "12926 2016-09-07 17:30:00.000      0.10538     0.10536\n",
       "12927 2016-09-07 17:45:00.000      0.10537     0.10536\n",
       "12928 2016-09-07 18:00:00.000      0.10537     0.10537\n",
       "\n",
       "[12929 rows x 3 columns]"
      ]
     },
     "execution_count": 100,
     "metadata": {},
     "output_type": "execute_result"
    }
   ],
   "source": [
    "SEKEUR"
   ]
  },
  {
   "cell_type": "code",
   "execution_count": 101,
   "id": "34461cea-bdb6-4dda-ba35-71d546e4ed54",
   "metadata": {},
   "outputs": [
    {
     "data": {
      "text/html": [
       "<div>\n",
       "<style scoped>\n",
       "    .dataframe tbody tr th:only-of-type {\n",
       "        vertical-align: middle;\n",
       "    }\n",
       "\n",
       "    .dataframe tbody tr th {\n",
       "        vertical-align: top;\n",
       "    }\n",
       "\n",
       "    .dataframe thead th {\n",
       "        text-align: right;\n",
       "    }\n",
       "</style>\n",
       "<table border=\"1\" class=\"dataframe\">\n",
       "  <thead>\n",
       "    <tr style=\"text-align: right;\">\n",
       "      <th></th>\n",
       "      <th>Date</th>\n",
       "      <th>HIGH_CADEUR</th>\n",
       "      <th>LOW_CADEUR</th>\n",
       "    </tr>\n",
       "  </thead>\n",
       "  <tbody>\n",
       "    <tr>\n",
       "      <th>0</th>\n",
       "      <td>2016-03-07 08:59:59.990</td>\n",
       "      <td>0.6842</td>\n",
       "      <td>0.6829</td>\n",
       "    </tr>\n",
       "    <tr>\n",
       "      <th>1</th>\n",
       "      <td>2016-03-07 09:15:00.000</td>\n",
       "      <td>0.6849</td>\n",
       "      <td>0.6841</td>\n",
       "    </tr>\n",
       "    <tr>\n",
       "      <th>2</th>\n",
       "      <td>2016-03-07 09:30:00.000</td>\n",
       "      <td>0.6844</td>\n",
       "      <td>0.6837</td>\n",
       "    </tr>\n",
       "    <tr>\n",
       "      <th>3</th>\n",
       "      <td>2016-03-07 09:45:00.000</td>\n",
       "      <td>0.6844</td>\n",
       "      <td>0.6839</td>\n",
       "    </tr>\n",
       "    <tr>\n",
       "      <th>4</th>\n",
       "      <td>2016-03-07 10:00:00.000</td>\n",
       "      <td>0.6840</td>\n",
       "      <td>0.6835</td>\n",
       "    </tr>\n",
       "    <tr>\n",
       "      <th>...</th>\n",
       "      <td>...</td>\n",
       "      <td>...</td>\n",
       "      <td>...</td>\n",
       "    </tr>\n",
       "    <tr>\n",
       "      <th>12924</th>\n",
       "      <td>2016-09-07 17:00:00.000</td>\n",
       "      <td>0.6897</td>\n",
       "      <td>0.6893</td>\n",
       "    </tr>\n",
       "    <tr>\n",
       "      <th>12925</th>\n",
       "      <td>2016-09-07 17:15:00.000</td>\n",
       "      <td>0.6902</td>\n",
       "      <td>0.6895</td>\n",
       "    </tr>\n",
       "    <tr>\n",
       "      <th>12926</th>\n",
       "      <td>2016-09-07 17:30:00.000</td>\n",
       "      <td>0.6902</td>\n",
       "      <td>0.6898</td>\n",
       "    </tr>\n",
       "    <tr>\n",
       "      <th>12927</th>\n",
       "      <td>2016-09-07 17:45:00.000</td>\n",
       "      <td>0.6902</td>\n",
       "      <td>0.6901</td>\n",
       "    </tr>\n",
       "    <tr>\n",
       "      <th>12928</th>\n",
       "      <td>2016-09-07 18:00:00.000</td>\n",
       "      <td>0.6901</td>\n",
       "      <td>0.6901</td>\n",
       "    </tr>\n",
       "  </tbody>\n",
       "</table>\n",
       "<p>12929 rows × 3 columns</p>\n",
       "</div>"
      ],
      "text/plain": [
       "                         Date  HIGH_CADEUR  LOW_CADEUR\n",
       "0     2016-03-07 08:59:59.990       0.6842      0.6829\n",
       "1     2016-03-07 09:15:00.000       0.6849      0.6841\n",
       "2     2016-03-07 09:30:00.000       0.6844      0.6837\n",
       "3     2016-03-07 09:45:00.000       0.6844      0.6839\n",
       "4     2016-03-07 10:00:00.000       0.6840      0.6835\n",
       "...                       ...          ...         ...\n",
       "12924 2016-09-07 17:00:00.000       0.6897      0.6893\n",
       "12925 2016-09-07 17:15:00.000       0.6902      0.6895\n",
       "12926 2016-09-07 17:30:00.000       0.6902      0.6898\n",
       "12927 2016-09-07 17:45:00.000       0.6902      0.6901\n",
       "12928 2016-09-07 18:00:00.000       0.6901      0.6901\n",
       "\n",
       "[12929 rows x 3 columns]"
      ]
     },
     "execution_count": 101,
     "metadata": {},
     "output_type": "execute_result"
    }
   ],
   "source": [
    "CADEUR"
   ]
  },
  {
   "cell_type": "code",
   "execution_count": 102,
   "id": "07b66b9e-f940-4b57-a299-c28f43e3a125",
   "metadata": {},
   "outputs": [],
   "source": [
    "GBPEUR['Mean_Price'] = (GBPEUR['HIGH_GBPEUR'] + GBPEUR['LOW_GBPEUR'])/2\n",
    "SEKEUR['Mean_Price'] = (SEKEUR['HIGH_SEKEUR'] + SEKEUR['LOW_SEKEUR'])/2\n",
    "CADEUR['Mean_Price'] = (CADEUR['HIGH_CADEUR'] + CADEUR['LOW_CADEUR'])/2"
   ]
  },
  {
   "cell_type": "code",
   "execution_count": 103,
   "id": "03db514c-be73-433d-bf2b-c2e668de5a88",
   "metadata": {},
   "outputs": [],
   "source": [
    "GBPEUR['GBPEUR_RETURNS'] = ((GBPEUR['Mean_Price'] - GBPEUR['Mean_Price'].shift(1)) / GBPEUR['Mean_Price'].shift(1)).dropna()\n",
    "SEKEUR['SEKEUR_RETURNS'] = ((SEKEUR['Mean_Price'] - SEKEUR['Mean_Price'].shift(1)) / SEKEUR['Mean_Price'].shift(1)).dropna()\n",
    "CADEUR['CADEUR_RETURNS'] = ((CADEUR['Mean_Price'] - CADEUR['Mean_Price'].shift(1)) / CADEUR['Mean_Price'].shift(1)).dropna()\n",
    "\n",
    "GBPEUR['LOG__GBPEUR_RETURNS'] = np.log(GBPEUR['Mean_Price'] / GBPEUR['Mean_Price'].shift(1)).dropna()\n",
    "SEKEUR['LOG_SEKEUR_RETURNS'] = np.log(SEKEUR['Mean_Price'] / SEKEUR['Mean_Price'].shift(1)).dropna()\n",
    "CADEUR['LOG_CADEUR_RETURNS'] = np.log(CADEUR['Mean_Price'] / CADEUR['Mean_Price'].shift(1)).dropna()\n",
    "\n",
    "\n",
    "GBPEUR.dropna(inplace=True)\n",
    "SEKEUR.dropna(inplace=True)\n",
    "CADEUR.dropna(inplace=True)"
   ]
  },
  {
   "cell_type": "code",
   "execution_count": 104,
   "id": "440a620e-89db-4502-8e9b-f4865a9ce887",
   "metadata": {},
   "outputs": [
    {
     "data": {
      "text/html": [
       "<div>\n",
       "<style scoped>\n",
       "    .dataframe tbody tr th:only-of-type {\n",
       "        vertical-align: middle;\n",
       "    }\n",
       "\n",
       "    .dataframe tbody tr th {\n",
       "        vertical-align: top;\n",
       "    }\n",
       "\n",
       "    .dataframe thead th {\n",
       "        text-align: right;\n",
       "    }\n",
       "</style>\n",
       "<table border=\"1\" class=\"dataframe\">\n",
       "  <thead>\n",
       "    <tr style=\"text-align: right;\">\n",
       "      <th></th>\n",
       "      <th>Date</th>\n",
       "      <th>HIGH_GBPEUR</th>\n",
       "      <th>LOW_GBPEUR</th>\n",
       "      <th>Mean_Price</th>\n",
       "      <th>GBPEUR_RETURNS</th>\n",
       "      <th>LOG__GBPEUR_RETURNS</th>\n",
       "    </tr>\n",
       "  </thead>\n",
       "  <tbody>\n",
       "    <tr>\n",
       "      <th>1</th>\n",
       "      <td>2016-03-07 09:15:00</td>\n",
       "      <td>1.2940</td>\n",
       "      <td>1.2930</td>\n",
       "      <td>1.29350</td>\n",
       "      <td>0.000812</td>\n",
       "      <td>0.000812</td>\n",
       "    </tr>\n",
       "    <tr>\n",
       "      <th>2</th>\n",
       "      <td>2016-03-07 09:30:00</td>\n",
       "      <td>1.2943</td>\n",
       "      <td>1.2922</td>\n",
       "      <td>1.29325</td>\n",
       "      <td>-0.000193</td>\n",
       "      <td>-0.000193</td>\n",
       "    </tr>\n",
       "    <tr>\n",
       "      <th>3</th>\n",
       "      <td>2016-03-07 09:45:00</td>\n",
       "      <td>1.2930</td>\n",
       "      <td>1.2913</td>\n",
       "      <td>1.29215</td>\n",
       "      <td>-0.000851</td>\n",
       "      <td>-0.000851</td>\n",
       "    </tr>\n",
       "    <tr>\n",
       "      <th>4</th>\n",
       "      <td>2016-03-07 10:00:00</td>\n",
       "      <td>1.2931</td>\n",
       "      <td>1.2921</td>\n",
       "      <td>1.29260</td>\n",
       "      <td>0.000348</td>\n",
       "      <td>0.000348</td>\n",
       "    </tr>\n",
       "    <tr>\n",
       "      <th>5</th>\n",
       "      <td>2016-03-07 10:15:00</td>\n",
       "      <td>1.2926</td>\n",
       "      <td>1.2921</td>\n",
       "      <td>1.29235</td>\n",
       "      <td>-0.000193</td>\n",
       "      <td>-0.000193</td>\n",
       "    </tr>\n",
       "    <tr>\n",
       "      <th>...</th>\n",
       "      <td>...</td>\n",
       "      <td>...</td>\n",
       "      <td>...</td>\n",
       "      <td>...</td>\n",
       "      <td>...</td>\n",
       "      <td>...</td>\n",
       "    </tr>\n",
       "    <tr>\n",
       "      <th>12924</th>\n",
       "      <td>2016-09-07 17:00:00</td>\n",
       "      <td>1.1879</td>\n",
       "      <td>1.1867</td>\n",
       "      <td>1.18730</td>\n",
       "      <td>-0.000589</td>\n",
       "      <td>-0.000589</td>\n",
       "    </tr>\n",
       "    <tr>\n",
       "      <th>12925</th>\n",
       "      <td>2016-09-07 17:15:00</td>\n",
       "      <td>1.1883</td>\n",
       "      <td>1.1874</td>\n",
       "      <td>1.18785</td>\n",
       "      <td>0.000463</td>\n",
       "      <td>0.000463</td>\n",
       "    </tr>\n",
       "    <tr>\n",
       "      <th>12926</th>\n",
       "      <td>2016-09-07 17:30:00</td>\n",
       "      <td>1.1880</td>\n",
       "      <td>1.1874</td>\n",
       "      <td>1.18770</td>\n",
       "      <td>-0.000126</td>\n",
       "      <td>-0.000126</td>\n",
       "    </tr>\n",
       "    <tr>\n",
       "      <th>12927</th>\n",
       "      <td>2016-09-07 17:45:00</td>\n",
       "      <td>1.1874</td>\n",
       "      <td>1.1866</td>\n",
       "      <td>1.18700</td>\n",
       "      <td>-0.000589</td>\n",
       "      <td>-0.000590</td>\n",
       "    </tr>\n",
       "    <tr>\n",
       "      <th>12928</th>\n",
       "      <td>2016-09-07 18:00:00</td>\n",
       "      <td>1.1870</td>\n",
       "      <td>1.1869</td>\n",
       "      <td>1.18695</td>\n",
       "      <td>-0.000042</td>\n",
       "      <td>-0.000042</td>\n",
       "    </tr>\n",
       "  </tbody>\n",
       "</table>\n",
       "<p>12928 rows × 6 columns</p>\n",
       "</div>"
      ],
      "text/plain": [
       "                     Date  HIGH_GBPEUR  LOW_GBPEUR  Mean_Price  \\\n",
       "1     2016-03-07 09:15:00       1.2940      1.2930     1.29350   \n",
       "2     2016-03-07 09:30:00       1.2943      1.2922     1.29325   \n",
       "3     2016-03-07 09:45:00       1.2930      1.2913     1.29215   \n",
       "4     2016-03-07 10:00:00       1.2931      1.2921     1.29260   \n",
       "5     2016-03-07 10:15:00       1.2926      1.2921     1.29235   \n",
       "...                   ...          ...         ...         ...   \n",
       "12924 2016-09-07 17:00:00       1.1879      1.1867     1.18730   \n",
       "12925 2016-09-07 17:15:00       1.1883      1.1874     1.18785   \n",
       "12926 2016-09-07 17:30:00       1.1880      1.1874     1.18770   \n",
       "12927 2016-09-07 17:45:00       1.1874      1.1866     1.18700   \n",
       "12928 2016-09-07 18:00:00       1.1870      1.1869     1.18695   \n",
       "\n",
       "       GBPEUR_RETURNS  LOG__GBPEUR_RETURNS  \n",
       "1            0.000812             0.000812  \n",
       "2           -0.000193            -0.000193  \n",
       "3           -0.000851            -0.000851  \n",
       "4            0.000348             0.000348  \n",
       "5           -0.000193            -0.000193  \n",
       "...               ...                  ...  \n",
       "12924       -0.000589            -0.000589  \n",
       "12925        0.000463             0.000463  \n",
       "12926       -0.000126            -0.000126  \n",
       "12927       -0.000589            -0.000590  \n",
       "12928       -0.000042            -0.000042  \n",
       "\n",
       "[12928 rows x 6 columns]"
      ]
     },
     "execution_count": 104,
     "metadata": {},
     "output_type": "execute_result"
    }
   ],
   "source": [
    "GBPEUR"
   ]
  },
  {
   "cell_type": "code",
   "execution_count": 105,
   "id": "b442a7e8-b157-47b8-9d16-c59bb2b79fa0",
   "metadata": {},
   "outputs": [
    {
     "data": {
      "text/html": [
       "<div>\n",
       "<style scoped>\n",
       "    .dataframe tbody tr th:only-of-type {\n",
       "        vertical-align: middle;\n",
       "    }\n",
       "\n",
       "    .dataframe tbody tr th {\n",
       "        vertical-align: top;\n",
       "    }\n",
       "\n",
       "    .dataframe thead th {\n",
       "        text-align: right;\n",
       "    }\n",
       "</style>\n",
       "<table border=\"1\" class=\"dataframe\">\n",
       "  <thead>\n",
       "    <tr style=\"text-align: right;\">\n",
       "      <th></th>\n",
       "      <th>Date</th>\n",
       "      <th>HIGH_SEKEUR</th>\n",
       "      <th>LOW_SEKEUR</th>\n",
       "      <th>Mean_Price</th>\n",
       "      <th>SEKEUR_RETURNS</th>\n",
       "      <th>LOG_SEKEUR_RETURNS</th>\n",
       "    </tr>\n",
       "  </thead>\n",
       "  <tbody>\n",
       "    <tr>\n",
       "      <th>1</th>\n",
       "      <td>2016-03-07 09:15:00</td>\n",
       "      <td>0.10728</td>\n",
       "      <td>0.10717</td>\n",
       "      <td>0.107225</td>\n",
       "      <td>0.000000e+00</td>\n",
       "      <td>0.000000e+00</td>\n",
       "    </tr>\n",
       "    <tr>\n",
       "      <th>2</th>\n",
       "      <td>2016-03-07 09:30:00</td>\n",
       "      <td>0.10726</td>\n",
       "      <td>0.10719</td>\n",
       "      <td>0.107225</td>\n",
       "      <td>-1.294268e-16</td>\n",
       "      <td>-1.110223e-16</td>\n",
       "    </tr>\n",
       "    <tr>\n",
       "      <th>3</th>\n",
       "      <td>2016-03-07 09:45:00</td>\n",
       "      <td>0.10728</td>\n",
       "      <td>0.10721</td>\n",
       "      <td>0.107245</td>\n",
       "      <td>1.865237e-04</td>\n",
       "      <td>1.865063e-04</td>\n",
       "    </tr>\n",
       "    <tr>\n",
       "      <th>4</th>\n",
       "      <td>2016-03-07 10:00:00</td>\n",
       "      <td>0.10725</td>\n",
       "      <td>0.10719</td>\n",
       "      <td>0.107220</td>\n",
       "      <td>-2.331111e-04</td>\n",
       "      <td>-2.331383e-04</td>\n",
       "    </tr>\n",
       "    <tr>\n",
       "      <th>5</th>\n",
       "      <td>2016-03-07 10:15:00</td>\n",
       "      <td>0.10724</td>\n",
       "      <td>0.10718</td>\n",
       "      <td>0.107210</td>\n",
       "      <td>-9.326618e-05</td>\n",
       "      <td>-9.327053e-05</td>\n",
       "    </tr>\n",
       "    <tr>\n",
       "      <th>...</th>\n",
       "      <td>...</td>\n",
       "      <td>...</td>\n",
       "      <td>...</td>\n",
       "      <td>...</td>\n",
       "      <td>...</td>\n",
       "      <td>...</td>\n",
       "    </tr>\n",
       "    <tr>\n",
       "      <th>12924</th>\n",
       "      <td>2016-09-07 17:00:00</td>\n",
       "      <td>0.10536</td>\n",
       "      <td>0.10531</td>\n",
       "      <td>0.105335</td>\n",
       "      <td>1.424231e-04</td>\n",
       "      <td>1.424130e-04</td>\n",
       "    </tr>\n",
       "    <tr>\n",
       "      <th>12925</th>\n",
       "      <td>2016-09-07 17:15:00</td>\n",
       "      <td>0.10537</td>\n",
       "      <td>0.10534</td>\n",
       "      <td>0.105355</td>\n",
       "      <td>1.898704e-04</td>\n",
       "      <td>1.898524e-04</td>\n",
       "    </tr>\n",
       "    <tr>\n",
       "      <th>12926</th>\n",
       "      <td>2016-09-07 17:30:00</td>\n",
       "      <td>0.10538</td>\n",
       "      <td>0.10536</td>\n",
       "      <td>0.105370</td>\n",
       "      <td>1.423758e-04</td>\n",
       "      <td>1.423656e-04</td>\n",
       "    </tr>\n",
       "    <tr>\n",
       "      <th>12927</th>\n",
       "      <td>2016-09-07 17:45:00</td>\n",
       "      <td>0.10537</td>\n",
       "      <td>0.10536</td>\n",
       "      <td>0.105365</td>\n",
       "      <td>-4.745184e-05</td>\n",
       "      <td>-4.745296e-05</td>\n",
       "    </tr>\n",
       "    <tr>\n",
       "      <th>12928</th>\n",
       "      <td>2016-09-07 18:00:00</td>\n",
       "      <td>0.10537</td>\n",
       "      <td>0.10537</td>\n",
       "      <td>0.105370</td>\n",
       "      <td>4.745409e-05</td>\n",
       "      <td>4.745296e-05</td>\n",
       "    </tr>\n",
       "  </tbody>\n",
       "</table>\n",
       "<p>12928 rows × 6 columns</p>\n",
       "</div>"
      ],
      "text/plain": [
       "                     Date  HIGH_SEKEUR  LOW_SEKEUR  Mean_Price  \\\n",
       "1     2016-03-07 09:15:00      0.10728     0.10717    0.107225   \n",
       "2     2016-03-07 09:30:00      0.10726     0.10719    0.107225   \n",
       "3     2016-03-07 09:45:00      0.10728     0.10721    0.107245   \n",
       "4     2016-03-07 10:00:00      0.10725     0.10719    0.107220   \n",
       "5     2016-03-07 10:15:00      0.10724     0.10718    0.107210   \n",
       "...                   ...          ...         ...         ...   \n",
       "12924 2016-09-07 17:00:00      0.10536     0.10531    0.105335   \n",
       "12925 2016-09-07 17:15:00      0.10537     0.10534    0.105355   \n",
       "12926 2016-09-07 17:30:00      0.10538     0.10536    0.105370   \n",
       "12927 2016-09-07 17:45:00      0.10537     0.10536    0.105365   \n",
       "12928 2016-09-07 18:00:00      0.10537     0.10537    0.105370   \n",
       "\n",
       "       SEKEUR_RETURNS  LOG_SEKEUR_RETURNS  \n",
       "1        0.000000e+00        0.000000e+00  \n",
       "2       -1.294268e-16       -1.110223e-16  \n",
       "3        1.865237e-04        1.865063e-04  \n",
       "4       -2.331111e-04       -2.331383e-04  \n",
       "5       -9.326618e-05       -9.327053e-05  \n",
       "...               ...                 ...  \n",
       "12924    1.424231e-04        1.424130e-04  \n",
       "12925    1.898704e-04        1.898524e-04  \n",
       "12926    1.423758e-04        1.423656e-04  \n",
       "12927   -4.745184e-05       -4.745296e-05  \n",
       "12928    4.745409e-05        4.745296e-05  \n",
       "\n",
       "[12928 rows x 6 columns]"
      ]
     },
     "execution_count": 105,
     "metadata": {},
     "output_type": "execute_result"
    }
   ],
   "source": [
    "SEKEUR"
   ]
  },
  {
   "cell_type": "code",
   "execution_count": 106,
   "id": "39a9b3a1-1f06-435b-89b6-4d5ee7447fa2",
   "metadata": {},
   "outputs": [
    {
     "data": {
      "text/html": [
       "<div>\n",
       "<style scoped>\n",
       "    .dataframe tbody tr th:only-of-type {\n",
       "        vertical-align: middle;\n",
       "    }\n",
       "\n",
       "    .dataframe tbody tr th {\n",
       "        vertical-align: top;\n",
       "    }\n",
       "\n",
       "    .dataframe thead th {\n",
       "        text-align: right;\n",
       "    }\n",
       "</style>\n",
       "<table border=\"1\" class=\"dataframe\">\n",
       "  <thead>\n",
       "    <tr style=\"text-align: right;\">\n",
       "      <th></th>\n",
       "      <th>Date</th>\n",
       "      <th>HIGH_CADEUR</th>\n",
       "      <th>LOW_CADEUR</th>\n",
       "      <th>Mean_Price</th>\n",
       "      <th>CADEUR_RETURNS</th>\n",
       "      <th>LOG_CADEUR_RETURNS</th>\n",
       "    </tr>\n",
       "  </thead>\n",
       "  <tbody>\n",
       "    <tr>\n",
       "      <th>1</th>\n",
       "      <td>2016-03-07 09:15:00</td>\n",
       "      <td>0.6849</td>\n",
       "      <td>0.6841</td>\n",
       "      <td>0.68450</td>\n",
       "      <td>1.389803e-03</td>\n",
       "      <td>1.388838e-03</td>\n",
       "    </tr>\n",
       "    <tr>\n",
       "      <th>2</th>\n",
       "      <td>2016-03-07 09:30:00</td>\n",
       "      <td>0.6844</td>\n",
       "      <td>0.6837</td>\n",
       "      <td>0.68405</td>\n",
       "      <td>-6.574142e-04</td>\n",
       "      <td>-6.576304e-04</td>\n",
       "    </tr>\n",
       "    <tr>\n",
       "      <th>3</th>\n",
       "      <td>2016-03-07 09:45:00</td>\n",
       "      <td>0.6844</td>\n",
       "      <td>0.6839</td>\n",
       "      <td>0.68415</td>\n",
       "      <td>1.461881e-04</td>\n",
       "      <td>1.461775e-04</td>\n",
       "    </tr>\n",
       "    <tr>\n",
       "      <th>4</th>\n",
       "      <td>2016-03-07 10:00:00</td>\n",
       "      <td>0.6840</td>\n",
       "      <td>0.6835</td>\n",
       "      <td>0.68375</td>\n",
       "      <td>-5.846671e-04</td>\n",
       "      <td>-5.848381e-04</td>\n",
       "    </tr>\n",
       "    <tr>\n",
       "      <th>5</th>\n",
       "      <td>2016-03-07 10:15:00</td>\n",
       "      <td>0.6839</td>\n",
       "      <td>0.6836</td>\n",
       "      <td>0.68375</td>\n",
       "      <td>-1.623727e-16</td>\n",
       "      <td>-1.110223e-16</td>\n",
       "    </tr>\n",
       "    <tr>\n",
       "      <th>...</th>\n",
       "      <td>...</td>\n",
       "      <td>...</td>\n",
       "      <td>...</td>\n",
       "      <td>...</td>\n",
       "      <td>...</td>\n",
       "      <td>...</td>\n",
       "    </tr>\n",
       "    <tr>\n",
       "      <th>12924</th>\n",
       "      <td>2016-09-07 17:00:00</td>\n",
       "      <td>0.6897</td>\n",
       "      <td>0.6893</td>\n",
       "      <td>0.68950</td>\n",
       "      <td>3.627131e-04</td>\n",
       "      <td>3.626473e-04</td>\n",
       "    </tr>\n",
       "    <tr>\n",
       "      <th>12925</th>\n",
       "      <td>2016-09-07 17:15:00</td>\n",
       "      <td>0.6902</td>\n",
       "      <td>0.6895</td>\n",
       "      <td>0.68985</td>\n",
       "      <td>5.076142e-04</td>\n",
       "      <td>5.074854e-04</td>\n",
       "    </tr>\n",
       "    <tr>\n",
       "      <th>12926</th>\n",
       "      <td>2016-09-07 17:30:00</td>\n",
       "      <td>0.6902</td>\n",
       "      <td>0.6898</td>\n",
       "      <td>0.69000</td>\n",
       "      <td>2.174386e-04</td>\n",
       "      <td>2.174149e-04</td>\n",
       "    </tr>\n",
       "    <tr>\n",
       "      <th>12927</th>\n",
       "      <td>2016-09-07 17:45:00</td>\n",
       "      <td>0.6902</td>\n",
       "      <td>0.6901</td>\n",
       "      <td>0.69015</td>\n",
       "      <td>2.173913e-04</td>\n",
       "      <td>2.173677e-04</td>\n",
       "    </tr>\n",
       "    <tr>\n",
       "      <th>12928</th>\n",
       "      <td>2016-09-07 18:00:00</td>\n",
       "      <td>0.6901</td>\n",
       "      <td>0.6901</td>\n",
       "      <td>0.69010</td>\n",
       "      <td>-7.244802e-05</td>\n",
       "      <td>-7.245064e-05</td>\n",
       "    </tr>\n",
       "  </tbody>\n",
       "</table>\n",
       "<p>12928 rows × 6 columns</p>\n",
       "</div>"
      ],
      "text/plain": [
       "                     Date  HIGH_CADEUR  LOW_CADEUR  Mean_Price  \\\n",
       "1     2016-03-07 09:15:00       0.6849      0.6841     0.68450   \n",
       "2     2016-03-07 09:30:00       0.6844      0.6837     0.68405   \n",
       "3     2016-03-07 09:45:00       0.6844      0.6839     0.68415   \n",
       "4     2016-03-07 10:00:00       0.6840      0.6835     0.68375   \n",
       "5     2016-03-07 10:15:00       0.6839      0.6836     0.68375   \n",
       "...                   ...          ...         ...         ...   \n",
       "12924 2016-09-07 17:00:00       0.6897      0.6893     0.68950   \n",
       "12925 2016-09-07 17:15:00       0.6902      0.6895     0.68985   \n",
       "12926 2016-09-07 17:30:00       0.6902      0.6898     0.69000   \n",
       "12927 2016-09-07 17:45:00       0.6902      0.6901     0.69015   \n",
       "12928 2016-09-07 18:00:00       0.6901      0.6901     0.69010   \n",
       "\n",
       "       CADEUR_RETURNS  LOG_CADEUR_RETURNS  \n",
       "1        1.389803e-03        1.388838e-03  \n",
       "2       -6.574142e-04       -6.576304e-04  \n",
       "3        1.461881e-04        1.461775e-04  \n",
       "4       -5.846671e-04       -5.848381e-04  \n",
       "5       -1.623727e-16       -1.110223e-16  \n",
       "...               ...                 ...  \n",
       "12924    3.627131e-04        3.626473e-04  \n",
       "12925    5.076142e-04        5.074854e-04  \n",
       "12926    2.174386e-04        2.174149e-04  \n",
       "12927    2.173913e-04        2.173677e-04  \n",
       "12928   -7.244802e-05       -7.245064e-05  \n",
       "\n",
       "[12928 rows x 6 columns]"
      ]
     },
     "execution_count": 106,
     "metadata": {},
     "output_type": "execute_result"
    }
   ],
   "source": [
    "CADEUR"
   ]
  },
  {
   "cell_type": "code",
   "execution_count": 107,
   "id": "6f862b0b-7232-4eae-b1f3-ee6d09ae9e85",
   "metadata": {},
   "outputs": [],
   "source": [
    "def haar_transform(data):\n",
    "    data = np.array(data, dtype=float)  # Ensure the data is in a mutable array\n",
    "    n = len(data)\n",
    "    output = np.zeros(n)  # Initialize output array\n",
    "    while n > 1:\n",
    "        n = n // 2\n",
    "        for i in range(n):\n",
    "            # Compute averages (low frequencies)\n",
    "            output[i] = (data[2 * i] + data[2 * i + 1]) / 2\n",
    "            # Compute differences (high frequencies)\n",
    "            output[n + i] = (data[2 * i] - data[2 * i + 1]) / 2\n",
    "        # Update data for the next iteration\n",
    "        data[:2 * n] = output[:2 * n]\n",
    "    return output\n"
   ]
  },
  {
   "cell_type": "code",
   "execution_count": 108,
   "id": "6be17f20-9c20-4e84-a3ff-a305e9bce80c",
   "metadata": {},
   "outputs": [],
   "source": [
    "gbpeur_haar = haar_transform(GBPEUR['LOG__GBPEUR_RETURNS'].values)\n",
    "sekeur_haar = haar_transform(SEKEUR['LOG_SEKEUR_RETURNS'].values)\n",
    "cadeur_haar = haar_transform(CADEUR['LOG_CADEUR_RETURNS'].values)\n",
    "\n",
    "gbpeur_haar_r = haar_transform(GBPEUR['GBPEUR_RETURNS'].values)\n",
    "sekeur_haar_r = haar_transform(SEKEUR['SEKEUR_RETURNS'].values)\n",
    "cadeur_haar_r= haar_transform(CADEUR['CADEUR_RETURNS'].values)\n",
    "\n",
    "GBPEUR_Average = GBPEUR['Mean_Price'].values\n",
    "SEKEUR_Average = SEKEUR['Mean_Price'].values\n",
    "CADEUR_Average = CADEUR['Mean_Price'] .values"
   ]
  },
  {
   "cell_type": "code",
   "execution_count": 109,
   "id": "f7d0063c-9495-401f-b2d1-87047dff062e",
   "metadata": {},
   "outputs": [],
   "source": [
    "# Multiresolution correlation with data validation\n",
    "def multiresolution_correlation(haar1, haar2, level):\n",
    "    length = 2 ** level\n",
    "    if length > len(haar1) or length > len(haar2):\n",
    "        raise ValueError(f\"Level {level} exceeds the length of Haar transforms.\")\n",
    "    \n",
    "    truncated_haar1 = haar1[:length]\n",
    "    truncated_haar2 = haar2[:length]\n",
    "    \n",
    "    # Check whether the series are constant or empty\n",
    "    if np.std(truncated_haar1) == 0 or np.std(truncated_haar2) == 0:\n",
    "        return 0  \n",
    "    \n",
    "    return np.corrcoef(truncated_haar1, truncated_haar2)[0, 1]"
   ]
  },
  {
   "cell_type": "code",
   "execution_count": 110,
   "id": "4ffe3eeb-a48f-4cfe-8e56-e4f84bdd27e4",
   "metadata": {},
   "outputs": [],
   "source": [
    "# Correlation matrix at the given level\n",
    "def correlation_matrix_at_level(level, haar_transforms):\n",
    "    import pandas as pd  # For better formatting of the output\n",
    "\n",
    "    matrix_size = len(haar_transforms)\n",
    "    correlation_matrix = np.zeros((matrix_size, matrix_size))\n",
    "    \n",
    "    print(f\"\\n--- Correlation Matrix at Level {level} ---\")\n",
    "    \n",
    "    for i in range(matrix_size):\n",
    "        for j in range(i + 1, matrix_size):\n",
    "            try:\n",
    "                correlation = multiresolution_correlation(haar_transforms[i], haar_transforms[j], level)\n",
    "            except ValueError as e:\n",
    "                print(f\"Error at level {level}, pair ({i}, {j}): {e}\")\n",
    "                correlation = 0\n",
    "            correlation_matrix[i, j] = correlation_matrix[j, i] = correlation\n",
    "\n",
    "    np.fill_diagonal(correlation_matrix, 1)  # Set diagonal to 1 (self-correlation)\n",
    "    \n",
    "    # Convert matrix to DataFrame for better visualization\n",
    "    df_correlation = pd.DataFrame(\n",
    "        correlation_matrix,\n",
    "        columns=[f\"Series {i+1}\" for i in range(matrix_size)],\n",
    "        index=[f\"Series {i+1}\" for i in range(matrix_size)]\n",
    "    )\n",
    "    \n",
    "    # Print formatted correlation matrix\n",
    "    print(df_correlation.to_string(float_format=\"{:0.2f}\".format))\n",
    "\n",
    "    return correlation_matrix\n"
   ]
  },
  {
   "cell_type": "code",
   "execution_count": 111,
   "id": "8521c152-065f-419a-89ec-838d60bf75aa",
   "metadata": {},
   "outputs": [
    {
     "name": "stdout",
     "output_type": "stream",
     "text": [
      "\n",
      "--- Correlation Matrix at Level 1 ---\n",
      "          Series 1  Series 2  Series 3\n",
      "Series 1      1.00      1.00     -1.00\n",
      "Series 2      1.00      1.00     -1.00\n",
      "Series 3     -1.00     -1.00      1.00\n",
      "\n",
      "--- Correlation Matrix at Level 2 ---\n",
      "          Series 1  Series 2  Series 3\n",
      "Series 1      1.00      0.37      0.29\n",
      "Series 2      0.37      1.00     -0.43\n",
      "Series 3      0.29     -0.43      1.00\n",
      "\n",
      "--- Correlation Matrix at Level 3 ---\n",
      "          Series 1  Series 2  Series 3\n",
      "Series 1      1.00      0.33      0.17\n",
      "Series 2      0.33      1.00      0.60\n",
      "Series 3      0.17      0.60      1.00\n",
      "\n",
      "--- Correlation Matrix at Level 4 ---\n",
      "          Series 1  Series 2  Series 3\n",
      "Series 1      1.00      0.14      0.45\n",
      "Series 2      0.14      1.00      0.59\n",
      "Series 3      0.45      0.59      1.00\n",
      "\n",
      "--- Correlation Matrix at Level 5 ---\n",
      "          Series 1  Series 2  Series 3\n",
      "Series 1      1.00      0.41      0.22\n",
      "Series 2      0.41      1.00      0.43\n",
      "Series 3      0.22      0.43      1.00\n",
      "\n",
      "--- Correlation Matrix at Level 6 ---\n",
      "          Series 1  Series 2  Series 3\n",
      "Series 1      1.00      0.48      0.31\n",
      "Series 2      0.48      1.00      0.45\n",
      "Series 3      0.31      0.45      1.00\n",
      "\n",
      "--- Correlation Matrix at Level 7 ---\n",
      "          Series 1  Series 2  Series 3\n",
      "Series 1      1.00      0.35      0.25\n",
      "Series 2      0.35      1.00      0.36\n",
      "Series 3      0.25      0.36      1.00\n",
      "\n",
      "--- Correlation Matrix at Level 8 ---\n",
      "          Series 1  Series 2  Series 3\n",
      "Series 1      1.00      0.33      0.34\n",
      "Series 2      0.33      1.00      0.37\n",
      "Series 3      0.34      0.37      1.00\n",
      "\n",
      "--- Correlation Matrix at Level 9 ---\n",
      "          Series 1  Series 2  Series 3\n",
      "Series 1      1.00      0.35      0.22\n",
      "Series 2      0.35      1.00      0.24\n",
      "Series 3      0.22      0.24      1.00\n",
      "\n",
      "--- Correlation Matrix at Level 10 ---\n",
      "          Series 1  Series 2  Series 3\n",
      "Series 1      1.00      0.16      0.31\n",
      "Series 2      0.16      1.00      0.26\n",
      "Series 3      0.31      0.26      1.00\n",
      "\n",
      "--- Correlation Matrix at Level 11 ---\n",
      "          Series 1  Series 2  Series 3\n",
      "Series 1      1.00      0.24      0.37\n",
      "Series 2      0.24      1.00      0.29\n",
      "Series 3      0.37      0.29      1.00\n",
      "\n",
      "--- Correlation Matrix at Level 12 ---\n",
      "          Series 1  Series 2  Series 3\n",
      "Series 1      1.00      0.26      0.34\n",
      "Series 2      0.26      1.00      0.25\n",
      "Series 3      0.34      0.25      1.00\n",
      "\n",
      "--- Correlation Matrix at Level 13 ---\n",
      "          Series 1  Series 2  Series 3\n",
      "Series 1      1.00      0.16      0.34\n",
      "Series 2      0.16      1.00      0.23\n",
      "Series 3      0.34      0.23      1.00\n"
     ]
    }
   ],
   "source": [
    "level = 14\n",
    "# Group the Haar transformations in a list\n",
    "haar_transforms = [gbpeur_haar_r, sekeur_haar_r, cadeur_haar_r ]\n",
    "\n",
    "# Calculate the correlation matrices for each level\n",
    "correlation_matrices = [correlation_matrix_at_level(lvl, haar_transforms) for lvl in range(1, level)]"
   ]
  },
  {
   "cell_type": "markdown",
   "id": "75b73dae-e1d3-4588-b1ab-422d8b955d5a",
   "metadata": {
    "jp-MarkdownHeadingCollapsed": true
   },
   "source": [
    "### Epps effect"
   ]
  },
  {
   "cell_type": "code",
   "execution_count": 113,
   "id": "927c8023-20c0-41df-bb48-9e2ec671aedf",
   "metadata": {},
   "outputs": [
    {
     "data": {
      "image/png": "[encoded data removed]",
      "text/plain": [
       "<Figure size 1000x600 with 1 Axes>"
      ]
     },
     "metadata": {},
     "output_type": "display_data"
    }
   ],
   "source": [
    "import numpy as np\n",
    "import matplotlib.pyplot as plt\n",
    "\n",
    "# Function to calculate the average correlation in a matrix\n",
    "def calculate_avg_correlation(correlation_matrix):\n",
    "    \"\"\"\n",
    "    Calcule la moyenne des corrélations dans une matrice de corrélation.\n",
    "    On exclut les 1 sur la diagonale (auto-corrélations).\n",
    "    \"\"\"\n",
    "    n = correlation_matrix.shape[0]\n",
    "    upper_triangle = correlation_matrix[np.triu_indices(n, k=1)]  \n",
    "    return np.mean(upper_triangle)\n",
    "\n",
    "# Calculate the average correlations at each level\n",
    "avg_correlations = [calculate_avg_correlation(matrix) for matrix in correlation_matrices]\n",
    "\n",
    "# Plot the Epps Effect\n",
    "plt.figure(figsize=(10, 6))\n",
    "plt.plot(range(1, level), avg_correlations, marker='o', linestyle='-', color='b')\n",
    "plt.xlabel('Resolution Level (Scale)', fontsize=12)\n",
    "plt.ylabel('Average Correlation', fontsize=12)\n",
    "plt.title('Epps Effect: Correlation vs Scale', fontsize=14)\n",
    "plt.grid(True)\n",
    "plt.show()\n"
   ]
  },
  {
   "cell_type": "markdown",
   "id": "cd322930-9499-4241-ad89-b2ea6a20a57b",
   "metadata": {
    "jp-MarkdownHeadingCollapsed": true
   },
   "source": [
    "### Hurst Exponent"
   ]
  },
  {
   "cell_type": "code",
   "execution_count": 115,
   "id": "66394819-6677-46b1-bc5a-ca53d5af3dbd",
   "metadata": {},
   "outputs": [],
   "source": [
    "def Hurst(serie):\n",
    "    T = len(serie)\n",
    "    M2 = np.mean((abs(serie[1:] - serie[:-1])) ** 2)\n",
    "    M2_prime = np.mean(abs((serie[2:] - serie[:-2])) ** 2)\n",
    "    H_est = 0.5 * np.log2(M2_prime / M2)\n",
    "    return H_est"
   ]
  },
  {
   "cell_type": "code",
   "execution_count": 116,
   "id": "8399ad36-ebbd-4ac9-b4cf-7726e37a8211",
   "metadata": {},
   "outputs": [],
   "source": [
    "hurst_gbpeur = Hurst(GBPEUR_Average)\n",
    "hurst_sekeur = Hurst(SEKEUR_Average)\n",
    "hurst_cadeur = Hurst(CADEUR_Average)"
   ]
  },
  {
   "cell_type": "code",
   "execution_count": 117,
   "id": "ada76f70-ea7a-4119-9d0a-cae118c1a3e6",
   "metadata": {},
   "outputs": [
    {
     "name": "stdout",
     "output_type": "stream",
     "text": [
      "0.6796285622373308\n",
      "0.6672914562994289\n",
      "0.6681148469080467\n"
     ]
    }
   ],
   "source": [
    "print(hurst_gbpeur)\n",
    "print(hurst_sekeur)\n",
    "print(hurst_cadeur)"
   ]
  },
  {
   "cell_type": "markdown",
   "id": "1f759dca-e76b-44e0-a1cd-c0d9908110d8",
   "metadata": {},
   "source": [
    "### Annualised Volatility with daily volatility and Hurst Exponent "
   ]
  },
  {
   "cell_type": "code",
   "execution_count": 119,
   "id": "dda9d459-cb62-41fc-890d-f00406cd5ffc",
   "metadata": {},
   "outputs": [
    {
     "name": "stdout",
     "output_type": "stream",
     "text": [
      "            Day  Mean_Price\n",
      "0    2016-03-07     1.29480\n",
      "1    2016-03-08     1.29115\n",
      "2    2016-03-09     1.29255\n",
      "3    2016-03-10     1.27785\n",
      "4    2016-03-11     1.29025\n",
      "..          ...         ...\n",
      "154  2016-09-02     1.19165\n",
      "155  2016-09-04     1.19230\n",
      "156  2016-09-05     1.19380\n",
      "157  2016-09-06     1.19345\n",
      "158  2016-09-07     1.18695\n",
      "\n",
      "[159 rows x 2 columns]\n"
     ]
    }
   ],
   "source": [
    "df_gbpeur = pd.DataFrame(GBPEUR)\n",
    "\n",
    "# Convert the ‘Date’ column to datetime\n",
    "df_gbpeur['Date'] = pd.to_datetime(df_gbpeur['Date'])\n",
    "\n",
    "# Extract only the date (without the time)\n",
    "df_gbpeur['Day'] = df_gbpeur['Date'].dt.date\n",
    "\n",
    "# Find the last price for each day\n",
    "last_prices_gbpeur = df_gbpeur.groupby('Day')['Mean_Price'].last().reset_index()\n",
    "\n",
    "print(last_prices_gbpeur)"
   ]
  },
  {
   "cell_type": "code",
   "execution_count": 120,
   "id": "65bee56f-5434-4051-837c-6f7aad6c2582",
   "metadata": {},
   "outputs": [],
   "source": [
    "last_prices_gbpeur_average = df_gbpeur['Mean_Price'].values"
   ]
  },
  {
   "cell_type": "code",
   "execution_count": 121,
   "id": "ac8622df-4be9-4010-a96c-32aa732ccd83",
   "metadata": {},
   "outputs": [
    {
     "name": "stdout",
     "output_type": "stream",
     "text": [
      "            Day  Mean_Price\n",
      "0    2016-03-07    0.107125\n",
      "1    2016-03-08    0.107045\n",
      "2    2016-03-09    0.107670\n",
      "3    2016-03-10    0.106865\n",
      "4    2016-03-11    0.107520\n",
      "..          ...         ...\n",
      "154  2016-09-02    0.104415\n",
      "155  2016-09-04    0.104435\n",
      "156  2016-09-05    0.104695\n",
      "157  2016-09-06    0.104940\n",
      "158  2016-09-07    0.105370\n",
      "\n",
      "[159 rows x 2 columns]\n"
     ]
    }
   ],
   "source": [
    "df_sekeur = pd.DataFrame(SEKEUR)\n",
    "\n",
    "# Convert the ‘Date’ column to datetime\n",
    "df_sekeur['Date'] = pd.to_datetime(df_sekeur['Date'])\n",
    "\n",
    "# Extract only the date \n",
    "df_sekeur['Day'] = df_sekeur['Date'].dt.date\n",
    "\n",
    "# Find the last price for each day\n",
    "last_prices_sekeur = df_sekeur.groupby('Day')['Mean_Price'].last().reset_index()\n",
    "\n",
    "print(last_prices_sekeur)"
   ]
  },
  {
   "cell_type": "code",
   "execution_count": 122,
   "id": "6123fd24-e503-4a00-84ab-00602b2fef7b",
   "metadata": {},
   "outputs": [],
   "source": [
    "last_prices_sekeur_average = df_sekeur['Mean_Price'].values"
   ]
  },
  {
   "cell_type": "code",
   "execution_count": 123,
   "id": "7b068582-dd82-4419-aad6-1a270636c217",
   "metadata": {},
   "outputs": [
    {
     "name": "stdout",
     "output_type": "stream",
     "text": [
      "            Day  Mean_Price\n",
      "0    2016-03-07     0.68310\n",
      "1    2016-03-08     0.67705\n",
      "2    2016-03-09     0.68635\n",
      "3    2016-03-10     0.67040\n",
      "4    2016-03-11     0.67850\n",
      "..          ...         ...\n",
      "154  2016-09-02     0.69025\n",
      "155  2016-09-04     0.69015\n",
      "156  2016-09-05     0.69390\n",
      "157  2016-09-06     0.69170\n",
      "158  2016-09-07     0.69010\n",
      "\n",
      "[159 rows x 2 columns]\n"
     ]
    }
   ],
   "source": [
    "df_cadeur = pd.DataFrame(CADEUR)\n",
    "\n",
    "# Convert the ‘Date’ column to datetime\n",
    "df_cadeur['Date'] = pd.to_datetime(df_cadeur['Date'])\n",
    "\n",
    "# Extract only the date \n",
    "df_cadeur['Day'] = df_cadeur['Date'].dt.date\n",
    "\n",
    "# Find the last price for each day\n",
    "last_prices_cadeur = df_cadeur.groupby('Day')['Mean_Price'].last().reset_index()\n",
    "\n",
    "print(last_prices_cadeur)"
   ]
  },
  {
   "cell_type": "code",
   "execution_count": 124,
   "id": "efb47e43-94a5-4c7d-a4cd-f23424f338ac",
   "metadata": {},
   "outputs": [],
   "source": [
    "last_prices_cadeur_average = df_cadeur['Mean_Price'].values"
   ]
  },
  {
   "cell_type": "code",
   "execution_count": 125,
   "id": "f89f5471-08eb-482a-ab85-a4ff21afd02e",
   "metadata": {},
   "outputs": [],
   "source": [
    "def calculate_daily_volatility(series):\n",
    "\n",
    "    returns = (series[1:] - series[:-1]) / series[:-1]\n",
    "\n",
    "    return np.std(returns)"
   ]
  },
  {
   "cell_type": "code",
   "execution_count": 126,
   "id": "54c1dff1-6f80-4185-85f9-9ada2d7c1086",
   "metadata": {},
   "outputs": [],
   "source": [
    "def annualized_volatility(daily_vol, hurst_exponent):\n",
    "    return daily_vol * (252 ** hurst_exponent)"
   ]
  },
  {
   "cell_type": "code",
   "execution_count": 127,
   "id": "36e0bbb7-6e22-4c41-94d7-69fe41cfc084",
   "metadata": {},
   "outputs": [],
   "source": [
    "gbpeur_daily_vol = calculate_daily_volatility(last_prices_gbpeur_average)\n",
    "sekeur_daily_vol = calculate_daily_volatility(last_prices_sekeur_average)\n",
    "cadeur_daily_vol = calculate_daily_volatility(last_prices_cadeur_average)"
   ]
  },
  {
   "cell_type": "code",
   "execution_count": 128,
   "id": "a3c044be-223c-4b24-a822-ff31e3761574",
   "metadata": {},
   "outputs": [],
   "source": [
    "gbpeur_annual_vol = annualized_volatility(gbpeur_daily_vol, hurst_gbpeur)\n",
    "sekeur_annual_vol = annualized_volatility(sekeur_daily_vol, hurst_sekeur)\n",
    "cadeur_annual_vol = annualized_volatility(cadeur_daily_vol, hurst_cadeur)"
   ]
  },
  {
   "cell_type": "code",
   "execution_count": 129,
   "id": "74caaf23-a6d3-46ef-8f85-d21d1dcaa0f6",
   "metadata": {},
   "outputs": [
    {
     "data": {
      "text/plain": [
       "0.0006232313739448586"
      ]
     },
     "execution_count": 129,
     "metadata": {},
     "output_type": "execute_result"
    }
   ],
   "source": [
    "gbpeur_daily_vol"
   ]
  },
  {
   "cell_type": "code",
   "execution_count": 130,
   "id": "e47068bb-62e8-4bbc-b5f0-cfb048dbeaf2",
   "metadata": {},
   "outputs": [
    {
     "data": {
      "text/plain": [
       "0.02671220289724281"
      ]
     },
     "execution_count": 130,
     "metadata": {},
     "output_type": "execute_result"
    }
   ],
   "source": [
    "gbpeur_annual_vol"
   ]
  },
  {
   "cell_type": "code",
   "execution_count": 131,
   "id": "8b9ede8a-61cd-40cf-8631-0e8d782cf5f3",
   "metadata": {},
   "outputs": [
    {
     "data": {
      "text/plain": [
       "0.00032713099343330195"
      ]
     },
     "execution_count": 131,
     "metadata": {},
     "output_type": "execute_result"
    }
   ],
   "source": [
    "sekeur_daily_vol"
   ]
  },
  {
   "cell_type": "code",
   "execution_count": 132,
   "id": "4904eaeb-9536-483f-9735-863a8264b55c",
   "metadata": {},
   "outputs": [
    {
     "data": {
      "text/plain": [
       "0.013096515357121826"
      ]
     },
     "execution_count": 132,
     "metadata": {},
     "output_type": "execute_result"
    }
   ],
   "source": [
    "sekeur_annual_vol"
   ]
  },
  {
   "cell_type": "code",
   "execution_count": 133,
   "id": "064ba734-fa85-4018-a348-fdf3e66a0358",
   "metadata": {},
   "outputs": [
    {
     "data": {
      "text/plain": [
       "0.0005061314890089248"
      ]
     },
     "execution_count": 133,
     "metadata": {},
     "output_type": "execute_result"
    }
   ],
   "source": [
    "cadeur_daily_vol"
   ]
  },
  {
   "cell_type": "code",
   "execution_count": 134,
   "id": "05918eb6-48e7-4302-a27d-b0a9e3088e7d",
   "metadata": {},
   "outputs": [
    {
     "data": {
      "text/plain": [
       "0.020355168999834087"
      ]
     },
     "execution_count": 134,
     "metadata": {},
     "output_type": "execute_result"
    }
   ],
   "source": [
    "cadeur_annual_vol"
   ]
  }
 ],
 "metadata": {
  "kernelspec": {
   "display_name": "Python 3 (ipykernel)",
   "language": "python",
   "name": "python3"
  },
  "language_info": {
   "codemirror_mode": {
    "name": "ipython",
    "version": 3
   },
   "file_extension": ".py",
   "mimetype": "text/x-python",
   "name": "python",
   "nbconvert_exporter": "python",
   "pygments_lexer": "ipython3",
   "version": "3.12.4"
  }
 },
 "nbformat": 4,
 "nbformat_minor": 5
}
